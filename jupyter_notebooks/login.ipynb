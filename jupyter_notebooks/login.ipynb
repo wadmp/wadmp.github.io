{
 "cells": [
  {
   "cell_type": "markdown",
   "metadata": {},
   "source": [
    "## Setup"
   ]
  },
  {
   "cell_type": "code",
   "execution_count": null,
   "metadata": {},
   "outputs": [],
   "source": [
    "# Install packages in the current Jupyter kernel\n",
    "import sys\n",
    "!{sys.executable} -m pip install requests\n",
    "!{sys.executable} -m pip install pyjwt"
   ]
  },
  {
   "cell_type": "markdown",
   "metadata": {},
   "source": [
    "## Dependencies"
   ]
  },
  {
   "cell_type": "code",
   "execution_count": null,
   "metadata": {},
   "outputs": [],
   "source": [
    "import requests\n",
    "import json\n",
    "import jwt\n",
    "import time"
   ]
  },
  {
   "cell_type": "markdown",
   "metadata": {},
   "source": [
    "## Global variables"
   ]
  },
  {
   "cell_type": "code",
   "execution_count": null,
   "metadata": {},
   "outputs": [],
   "source": [
    "BASE_URL = 'https://gateway.dev.wadmp.com'\n",
    "BASE_PATH = 'api'"
   ]
  },
  {
   "cell_type": "markdown",
   "metadata": {},
   "source": [
    "## User input"
   ]
  },
  {
   "cell_type": "code",
   "execution_count": null,
   "metadata": {},
   "outputs": [],
   "source": [
    "USERNAME = input(\"Enter username:\")\n",
    "PASSWORD = input(\"Enter password:\")"
   ]
  },
  {
   "cell_type": "markdown",
   "metadata": {},
   "source": [
    "## Login"
   ]
  },
  {
   "cell_type": "code",
   "execution_count": null,
   "metadata": {},
   "outputs": [],
   "source": [
    "url = f\"{BASE_URL}/public/auth/connect/token\"\n",
    "credentials = {'username': USERNAME, 'password': PASSWORD, 'client_id': 'python', 'grant_type': 'password'}\n",
    "print(f\"\\nSending POST request to {url} with:\\n\"\n",
    "        f\"    credentials={credentials}\")\n",
    "response = requests.post(url, data=credentials)\n",
    "\n",
    "print(response.status_code)\n",
    "try:\n",
    "    print(json.dumps(response.json(), indent=4, sort_keys=True))\n",
    "except ValueError:\n",
    "    print(response.text)\n",
    "\n",
    "if response.status_code == requests.codes['ok']:\n",
    "    USER_TOKEN = response.json()[\"access_token\"]\n",
    "else:\n",
    "    print(\"Failed to login!\")\n",
    "    sys.exit(1)"
   ]
  },
  {
   "cell_type": "markdown",
   "metadata": {},
   "source": [
    "## Analyse the JSON Web Token (JWT)"
   ]
  },
  {
   "cell_type": "code",
   "execution_count": null,
   "metadata": {},
   "outputs": [],
   "source": [
    "headers = jwt.get_unverified_header(USER_TOKEN)\n",
    "print(json.dumps(headers, indent=4, sort_keys=True))"
   ]
  },
  {
   "cell_type": "code",
   "execution_count": null,
   "metadata": {},
   "outputs": [],
   "source": [
    "claims = jwt.decode(USER_TOKEN, verify=False)\n",
    "print(json.dumps(claims, indent=4, sort_keys=True))"
   ]
  },
  {
   "cell_type": "code",
   "execution_count": null,
   "metadata": {},
   "outputs": [],
   "source": [
    "nbf = claims['nbf']\n",
    "print(f\"Token valid from {time.strftime('%Y-%m-%d %H:%M:%S', time.localtime(nbf))} (local time)\")\n",
    "seconds = int(time.time()) - nbf\n",
    "print(f\"i.e. {seconds} seconds ago\")"
   ]
  },
  {
   "cell_type": "code",
   "execution_count": null,
   "metadata": {},
   "outputs": [],
   "source": [
    "exp = claims['exp']\n",
    "print(f\"Token expires {time.strftime('%Y-%m-%d %H:%M:%S', time.localtime(exp))} (local time)\")\n",
    "seconds = exp - int(time.time())\n",
    "m, s = divmod(seconds, 60)\n",
    "h, m = divmod(m, 60)\n",
    "print(f\"i.e. In {seconds} seconds, or {h:d}h {m:02d}m {s:02d}s\")"
   ]
  },
  {
   "cell_type": "code",
   "execution_count": null,
   "metadata": {},
   "outputs": [],
   "source": []
  }
 ],
 "metadata": {
  "kernelspec": {
   "display_name": "Python 3",
   "language": "python",
   "name": "python3"
  },
  "language_info": {
   "codemirror_mode": {
    "name": "ipython",
    "version": 3
   },
   "file_extension": ".py",
   "mimetype": "text/x-python",
   "name": "python",
   "nbconvert_exporter": "python",
   "pygments_lexer": "ipython3",
   "version": "3.7.0"
  }
 },
 "nbformat": 4,
 "nbformat_minor": 2
}
