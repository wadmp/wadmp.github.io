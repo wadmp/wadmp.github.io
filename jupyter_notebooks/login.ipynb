{
 "cells": [
  {
   "cell_type": "markdown",
   "metadata": {},
   "source": [
    "[View source on GitHub]: https://github.com/wadmp/wadmp.github.io/blob/master/jupyter_notebooks/login.ipynb\n",
    "[Notebook Viewer]: https://nbviewer.jupyter.org/github/wadmp/wadmp.github.io/blob/master/jupyter_notebooks/login.ipynb\n",
    "[Run in binder]: https://mybinder.org/v2/gh/wadmp/wadmp.github.io/master?filepath=jupyter_notebooks%2Flogin.ipynb\n",
    "[Run in Google Colab]: https://colab.research.google.com/github/wadmp/wadmp.github.io/blob/master/jupyter_notebooks/login.ipynb\n",
    "\n",
    "| [![GitHub logo](https://raw.githubusercontent.com/wadmp/wadmp.github.io/master/images/github_logo.png)][View source on GitHub] | [![Jupyter logo](https://raw.githubusercontent.com/wadmp/wadmp.github.io/master/images/jupyter_logo.png)][Notebook Viewer] | [![binder logo](https://raw.githubusercontent.com/wadmp/wadmp.github.io/master/images/binder_logo.png)][Run in binder] | [![Colab logo](https://raw.githubusercontent.com/wadmp/wadmp.github.io/master/images/colab_logo.png)][Run in Google Colab] |\n",
    "|:---------------------:|:---------------:|:-------------:|:-------------------:|\n",
    "| [View source on GitHub] | [Notebook Viewer] | [Run in binder] | [Run in Google Colab] |"
   ]
  },
  {
   "cell_type": "markdown",
   "metadata": {},
   "source": [
    "## Introduction\n",
    "This notebook provides an example of using the public REST API of WebAccess/DMP.\n",
    "\n",
    "It prompts the user to enter a Username and Password, and it logs-in to the server.\n",
    "\n",
    "It also analyses the JSON Web Token returned by the login function. (Normally, you would use this token in all subsequent API calls).\n",
    "\n",
    "### Requirements\n",
    "* You need to have an existing user account on the WA/DMP instance.\n",
    "\n",
    "### Usage\n",
    "In the \"Global Variables\" cell below, change BASE_URL to match the particular WA/DMP instance that you are using.\n",
    "\n",
    "Then run the cells, either one at a time (Shift-Enter), or all at once (select the 'Cell' menu, then 'Run All').\n",
    "\n",
    "When prompted, enter the required User Input.\n"
   ]
  },
  {
   "cell_type": "markdown",
   "metadata": {},
   "source": [
    "## Setup"
   ]
  },
  {
   "cell_type": "code",
   "execution_count": null,
   "metadata": {},
   "outputs": [],
   "source": [
    "%%capture\n",
    "\n",
    "# Install packages in the current Jupyter kernel\n",
    "import sys\n",
    "!{sys.executable} -m pip install requests\n",
    "!{sys.executable} -m pip install pyjwt\n",
    "\n",
    "import requests\n",
    "import json\n",
    "import jwt\n",
    "import time\n",
    "import re"
   ]
  },
  {
   "cell_type": "markdown",
   "metadata": {},
   "source": [
    "## Global variables"
   ]
  },
  {
   "cell_type": "code",
   "execution_count": null,
   "metadata": {},
   "outputs": [],
   "source": [
    "BASE_URL = 'https://gateway.wadmp.com'\n",
    "BASE_PATH = 'api'\n",
    "\n",
    "PERMISSION_NAMES = [\n",
    "    \"ViewUsers\",\n",
    "    \"CreateCompany\",\n",
    "    \"ManageRoles\",\n",
    "    \"DeleteUser\",\n",
    "    \"CreateUser\",\n",
    "    \"DeleteCompany\",\n",
    "    \"EditCompany\",\n",
    "    \"ViewCompany\",\n",
    "    \"EditUser\",\n",
    "    \"ViewDevice\",\n",
    "    \"CreateDevice\",\n",
    "    \"Claim Device\",\n",
    "    \"ViewDMServer\",\n",
    "    \"AdmDMServer\",\n",
    "    \"ChangeDeviceDMServer\",\n",
    "    \"Edit a device\",\n",
    "    \"Manage apps in App Store\",\n",
    "    \"ManageAPIClients\",\n",
    "    \"ManageSyncEngine\",\n",
    "    \"DeleteDevice\"\n",
    "]"
   ]
  },
  {
   "cell_type": "markdown",
   "metadata": {},
   "source": [
    "## User input"
   ]
  },
  {
   "cell_type": "code",
   "execution_count": null,
   "metadata": {},
   "outputs": [],
   "source": [
    "USERNAME = input(\"Enter WebAccess/DMP username:\")\n",
    "PASSWORD = input(\"Enter password:\")"
   ]
  },
  {
   "cell_type": "markdown",
   "metadata": {},
   "source": [
    "## Login"
   ]
  },
  {
   "cell_type": "code",
   "execution_count": null,
   "metadata": {},
   "outputs": [],
   "source": [
    "url = f\"{BASE_URL}/public/auth/connect/token\"\n",
    "credentials = {'username': USERNAME, 'password': PASSWORD, 'client_id': 'python', 'grant_type': 'password'}\n",
    "print(f\"\\nSending POST request to {url} with:\\n\"\n",
    "        f\"    credentials={credentials}\")\n",
    "response = requests.post(url, data=credentials)\n",
    "\n",
    "print(response.status_code)\n",
    "try:\n",
    "    print(json.dumps(response.json(), indent=4, sort_keys=True))\n",
    "except ValueError:\n",
    "    print(response.text)\n",
    "\n",
    "if response.status_code == requests.codes['ok']:\n",
    "    USER_TOKEN = response.json()[\"access_token\"]\n",
    "else:\n",
    "    print(\"Failed to login!\")\n",
    "    sys.exit(1)"
   ]
  },
  {
   "cell_type": "markdown",
   "metadata": {},
   "source": [
    "## Parse the JSON Web Token (JWT)"
   ]
  },
  {
   "cell_type": "code",
   "execution_count": null,
   "metadata": {},
   "outputs": [],
   "source": [
    "headers = jwt.get_unverified_header(USER_TOKEN)\n",
    "print(json.dumps(headers, indent=4, sort_keys=True))"
   ]
  },
  {
   "cell_type": "code",
   "execution_count": null,
   "metadata": {},
   "outputs": [],
   "source": [
    "claims = jwt.decode(USER_TOKEN, verify=False)\n",
    "print(json.dumps(claims, indent=4, sort_keys=True))"
   ]
  },
  {
   "cell_type": "markdown",
   "metadata": {},
   "source": [
    "## Calculate the validity period of the token"
   ]
  },
  {
   "cell_type": "code",
   "execution_count": null,
   "metadata": {},
   "outputs": [],
   "source": [
    "nbf = claims['nbf']\n",
    "print(f\"Token valid from {time.strftime('%Y-%m-%d %H:%M:%S', time.localtime(nbf))} (local time)\")\n",
    "seconds = int(time.time()) - nbf\n",
    "print(f\"i.e. {seconds} seconds ago\")"
   ]
  },
  {
   "cell_type": "code",
   "execution_count": null,
   "metadata": {},
   "outputs": [],
   "source": [
    "exp = claims['exp']\n",
    "print(f\"Token expires {time.strftime('%Y-%m-%d %H:%M:%S', time.localtime(exp))} (local time)\")\n",
    "seconds = exp - int(time.time())\n",
    "m, s = divmod(seconds, 60)\n",
    "h, m = divmod(m, 60)\n",
    "print(f\"i.e. In {seconds} seconds, or {h:d}h {m:02d}m {s:02d}s\")"
   ]
  },
  {
   "cell_type": "markdown",
   "metadata": {},
   "source": [
    "## Analyse the permissions for each company in the token "
   ]
  },
  {
   "cell_type": "code",
   "execution_count": null,
   "metadata": {},
   "outputs": [],
   "source": [
    "companies = {key.split('.')[1]: claims[key] for key in claims.keys() if re.match(r\"permissions\\.\\d+\", key)}\n",
    "\n",
    "for company_id, permissions in companies.items():\n",
    "    binary_string = format(int(permissions), '020b')\n",
    "    print(f\"\\nCompany {company_id}: {permissions} decimal = {binary_string} binary\")\n",
    "    for pos, char in enumerate(binary_string[::-1]):\n",
    "        if char == '1':\n",
    "            print(f\"   - {PERMISSION_NAMES[pos]}: YES\")\n",
    "        else:\n",
    "            print(f\"   - {PERMISSION_NAMES[pos]}: NO\")"
   ]
  }
 ],
 "metadata": {
  "kernelspec": {
   "display_name": "Python 3",
   "language": "python",
   "name": "python3"
  },
  "language_info": {
   "codemirror_mode": {
    "name": "ipython",
    "version": 3
   },
   "file_extension": ".py",
   "mimetype": "text/x-python",
   "name": "python",
   "nbconvert_exporter": "python",
   "pygments_lexer": "ipython3",
   "version": "3.7.0"
  }
 },
 "nbformat": 4,
 "nbformat_minor": 4
}
