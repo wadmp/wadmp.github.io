{
 "cells": [
  {
   "cell_type": "markdown",
   "metadata": {},
   "source": [
    "| [![GitHub logo](https://raw.githubusercontent.com/wadmp/wadmp.github.io/master/images/github_logo.png \"View source on GitHub\")](https://github.com/wadmp/wadmp.github.io/blob/master/jupyter_notebooks/geolocate_all.ipynb) | [![Jupyter logo](https://raw.githubusercontent.com/wadmp/wadmp.github.io/master/images/jupyter_logo.png \"Notebook Viewer\")](https://github.com/wadmp/wadmp.github.io/blob/master/jupyter_notebooks/geolocate.ipynb) | [![binder logo](https://raw.githubusercontent.com/wadmp/wadmp.github.io/master/images/binder_logo.png \"Run in binder\")](https://github.com/wadmp/wadmp.github.io/blob/master/jupyter_notebooks/geolocate.ipynb) | [![Colab logo](https://raw.githubusercontent.com/wadmp/wadmp.github.io/master/images/colab_logo.png \"Run in Google Colab\")](https://github.com/wadmp/wadmp.github.io/blob/master/jupyter_notebooks/geolocate.ipynb) |\n",
    "|:---------------------:|:---------------:|:-------------:|:-------------------:|\n",
    "| [View source on GitHub](https://github.com/wadmp/wadmp.github.io/blob/master/jupyter_notebooks/geolocate_all.ipynb) | [Notebook Viewer](https://github.com/wadmp/wadmp.github.io/blob/master/jupyter_notebooks/geolocate_all.ipynb) | [Run in binder](https://github.com/wadmp/wadmp.github.io/blob/master/jupyter_notebooks/geolocate_all.ipynb) | [Run in Google Colab](https://github.com/wadmp/wadmp.github.io/blob/master/jupyter_notebooks/geolocate_all.ipynb) |"
   ]
  },
  {
   "cell_type": "markdown",
   "metadata": {},
   "source": [
    "## Introduction\n",
    "This notebook provides an example of using the public REST API of WebAccess/DMP.\n",
    "\n",
    "It plots the last-known location of all your devices on a map, using both GPS information and cell tower information, if available.\n",
    "\n",
    "It uses [ipyleaflet](https://github.com/jupyter-widgets/ipyleaflet) to display the interactive map.\n",
    "\n",
    "It uses Google's [Geolocation API](https://developers.google.com/maps/documentation/geolocation/intro) to determine location from cell tower information.\n",
    "\n",
    "### Requirements\n",
    "* You need to have an existing user account on the WA/DMP instance.\n",
    "* In order to see something on the map, you need one or more devices with GPS *and/or* a cellular connection.\n",
    "* In order to plot location based on cell tower information, you must have an API key for Google's Geolocation API. (The Geolocation API is free if you make less than 40,000 calls per month).\n",
    "\n",
    "### Usage\n",
    "In the \"Global Variables\" cell below, change BASE_URL to match the particular WA/DMP instance that you are using.\n",
    "\n",
    "Then run the cells, either one at a time, or all at once.\n",
    "\n",
    "When prompted, enter the required User Input (USERNAME, PASSWORD, GOOGLE_KEY).\n",
    "\n",
    "The map will be displayed when you run the \"Display Map\" cell.\n",
    "\n",
    "The map is dynamically updated as devices are added.\n",
    "\n",
    "\"Upside-down\" markers are used to display GPS location.\n",
    "\"Normal\" markers are used to display cell tower location.\n",
    "\n",
    "Cell tower location is also marked with a bounding circle. i.e. The device could be anywhere inside this circle.\n",
    "\n",
    "Hover over a marker to see the MAC addres of the device."
   ]
  },
  {
   "cell_type": "markdown",
   "metadata": {},
   "source": [
    "## Setup"
   ]
  },
  {
   "cell_type": "code",
   "execution_count": null,
   "metadata": {},
   "outputs": [],
   "source": [
    "%%capture\n",
    "\n",
    "# Install packages in the current Jupyter kernel\n",
    "import sys\n",
    "!{sys.executable} -m pip install requests\n",
    "!{sys.executable} -m pip install ipyleaflet\n",
    "\n",
    "import requests\n",
    "import json\n",
    "from ipyleaflet import Map, Marker, MarkerCluster, Circle"
   ]
  },
  {
   "cell_type": "markdown",
   "metadata": {},
   "source": [
    "## Functions to be re-used later"
   ]
  },
  {
   "cell_type": "code",
   "execution_count": null,
   "metadata": {},
   "outputs": [],
   "source": [
    "def login(username, password):\n",
    "    \"\"\"Login to the system, and return a token\n",
    "    \"\"\"\n",
    "    url = f\"{BASE_URL}/public/auth/connect/token\"\n",
    "    credentials = {'username': username, 'password': password, 'client_id': 'python', 'grant_type': 'password'}\n",
    "    print(f\"\\nSending POST request to {url} with:\\n\"\n",
    "          f\"    credentials={credentials}\")\n",
    "    response = requests.post(url, data=credentials)\n",
    "\n",
    "    print(response.status_code)\n",
    "    try:\n",
    "        print(json.dumps(response.json(), indent=4, sort_keys=True))\n",
    "    except ValueError:\n",
    "        print(response.text)\n",
    "\n",
    "    if response.status_code == requests.codes['ok']:\n",
    "        return response.json()[\"access_token\"]\n",
    "    else:\n",
    "        print(\"Failed to login!\")\n",
    "        sys.exit(1)\n",
    "\n",
    "\n",
    "def get_devices(page_size):\n",
    "    \"\"\"Retrieves the list of your devices.\n",
    "       Requests are paged, but this function automatically aggregates responses into one complete list.\n",
    "    \"\"\"\n",
    "    page_number = 1\n",
    "    total, devices = get_one_page_of_devices(page_number, page_size)\n",
    "    \n",
    "    while len(devices) < total:\n",
    "        print(f\"{len(devices)} out of {total} ...\")\n",
    "        page_number += 1\n",
    "        total, page = get_one_page_of_devices(page_number, page_size)\n",
    "        devices.extend(page)\n",
    "\n",
    "    return devices\n",
    "\n",
    "\n",
    "def get_one_page_of_devices(page_number, page_size):\n",
    "    \"\"\"Retrieves one page of the list of your devices.\n",
    "    \"\"\"\n",
    "    url = f\"{BASE_URL}/{BASE_PATH}/management/devices\"\n",
    "    header = {'Authorization': f'Bearer {USER_TOKEN}'}\n",
    "\n",
    "    # The only REQUIRED query parameters are page and pageSize\n",
    "    print(f\"Sending GET request to {url} with:\\n\"\n",
    "          f\"    header={header}\\n\"\n",
    "          f\"    page={page_number}\\n\"\n",
    "          f\"    pageSize={page_size}\")\n",
    "    query = {'page': page_number, 'pageSize': page_size}\n",
    "    response = requests.get(url, params=query, headers=header)\n",
    "\n",
    "    print(response.status_code)\n",
    "    try:\n",
    "        print(json.dumps(response.json(), indent=4, sort_keys=True))\n",
    "    except ValueError:\n",
    "        print(response.text)\n",
    "    \n",
    "    total = response.json()['total_items']\n",
    "\n",
    "    if response.status_code == requests.codes['ok']:\n",
    "        return total, response.json()['data']\n",
    "    else:\n",
    "        print(f\"Failed to retrieve page {page_number}!\")\n",
    "        return None\n",
    "\n",
    "    \n",
    "def get_monitoring_data(influx_query):\n",
    "    \"\"\"Queries for monitoring data from a specific device\n",
    "    \"\"\"\n",
    "    url = f\"{BASE_URL}/{BASE_PATH}/monitoring/devices/query\"\n",
    "    header = {'Authorization': f'Bearer {USER_TOKEN}'}\n",
    "    query = {'Q': influx_query, 'Epoch': 'ms'}\n",
    "    print(f\"\\nSending GET request to {url} with:\\n\"\n",
    "            f\"    header={header}\\n\"\n",
    "            f\"    Q={influx_query}\\n\"\n",
    "            f\"    Epoch=ms\\n\")\n",
    "    response = requests.get(url, params=query, headers=header)\n",
    "\n",
    "    print(response.status_code)\n",
    "    try:\n",
    "        print(json.dumps(response.json(), indent=4, sort_keys=True))\n",
    "    except ValueError:\n",
    "        print(response.text)\n",
    "\n",
    "    if response.status_code == requests.codes['ok']:\n",
    "        if response.json()['results'][0]['series']:\n",
    "            return response.json()['results'][0]['series'][0]\n",
    "        else:\n",
    "            print(\"No data\")\n",
    "            return None\n",
    "    else:\n",
    "        print(\"InfluxDB query failed!\")\n",
    "        return None\n",
    "\n",
    "def lookup_geolocation(body, key):\n",
    "    \"\"\"Uses Google's Geolocation API to find a Latitude and Longitude based on cell tower information\n",
    "    \"\"\"\n",
    "    url = \"https://www.googleapis.com/geolocation/v1/geolocate\"\n",
    "    query = {'key': key}\n",
    "    print(f\"\\nSending POST request to {url} with:\\n\"\n",
    "            f\"    body={body}\")\n",
    "    response = requests.post(url, params=query, json=body)\n",
    "\n",
    "    print(response.status_code)\n",
    "    try:\n",
    "        print(json.dumps(response.json(), indent=4, sort_keys=True))\n",
    "    except ValueError:\n",
    "        print(response.text)\n",
    "\n",
    "    if response.status_code == requests.codes['ok']:\n",
    "        return response.json()\n",
    "    else:\n",
    "        print(\"Google API query failed!\")\n",
    "        return None"
   ]
  },
  {
   "cell_type": "markdown",
   "metadata": {},
   "source": [
    "## Global variables"
   ]
  },
  {
   "cell_type": "code",
   "execution_count": null,
   "metadata": {},
   "outputs": [],
   "source": [
    "BASE_URL = 'https://gateway.staging.wadmp.com'\n",
    "BASE_PATH = 'api'"
   ]
  },
  {
   "cell_type": "markdown",
   "metadata": {},
   "source": [
    "## User input"
   ]
  },
  {
   "cell_type": "code",
   "execution_count": null,
   "metadata": {},
   "outputs": [],
   "source": [
    "USERNAME = input(\"Enter WA/DMP username:\")\n",
    "PASSWORD = input(\"Enter WA/DMP password:\")\n",
    "GOOGLE_KEY = input(\"Enter your Google API key:\")"
   ]
  },
  {
   "cell_type": "markdown",
   "metadata": {},
   "source": [
    "## Display map"
   ]
  },
  {
   "cell_type": "code",
   "execution_count": null,
   "metadata": {},
   "outputs": [],
   "source": [
    "m = Map(center=(0, 0), zoom=1)\n",
    "m"
   ]
  },
  {
   "cell_type": "markdown",
   "metadata": {},
   "source": [
    "## Get list of devices"
   ]
  },
  {
   "cell_type": "code",
   "execution_count": null,
   "metadata": {},
   "outputs": [],
   "source": [
    "# Login\n",
    "USER_TOKEN = login(USERNAME, PASSWORD)\n",
    "\n",
    "# Get list of devices\n",
    "my_devices = get_devices(100)\n",
    "\n",
    "total_devices = len(my_devices)\n",
    "print(f\"Total number of devices = {total_devices}\")"
   ]
  },
  {
   "cell_type": "markdown",
   "metadata": {},
   "source": [
    "## Iterate over list, looking for GPS information"
   ]
  },
  {
   "cell_type": "code",
   "execution_count": null,
   "metadata": {},
   "outputs": [],
   "source": [
    "devices_with_gps = 0\n",
    "gps_markers = ()  # Empty tuple\n",
    "\n",
    "for device in my_devices:\n",
    "    \n",
    "    # Get the latest location data from InfluxDB\n",
    "    \"\"\"Note that the company name must be included in the WHERE clause!\n",
    "    (If you do not specify a company, the query will default to use the InfluxDB database for your primary company).\n",
    "\n",
    "    And because of the way Grafana [uses variables in queries](https://grafana.com/docs/grafana/latest/features/datasources/influxdb/#using-variables-in-queries), you have to wrap the company name as follows:\n",
    "    `\"companyName\" =~ /^My Company Inc.$/`\n",
    "\n",
    "    Following the Influx recommendations [here](https://docs.influxdata.com/influxdb/v1.7/troubleshooting/frequently-asked-questions/#when-should-i-single-quote-and-when-should-i-double-quote-in-queries), we single-quote string values and double-quote identifiers.\n",
    "    \"\"\"\n",
    "    mac = device['mac_address']\n",
    "    if device['company']:\n",
    "        company = device['company']['name']\n",
    "    else:\n",
    "        continue  # Stop curent iteration of for loop\n",
    "    \n",
    "    influx_query = f'SELECT LAST(\"gpsLatitude\"), LAST(\"gpsLongitude\") FROM \"SNMP\" WHERE (\"macAddress\" = \\'{mac}\\' AND \"companyName\" =~ /^{company}$/)'\n",
    "    influx_response = get_monitoring_data(influx_query)\n",
    "    \n",
    "    if not influx_response:\n",
    "        continue  # Stop curent iteration of for loop\n",
    "        \n",
    "    [timestamp, lat, lng] = influx_response['values'][0]\n",
    "    print(\n",
    "        f\"gpsLatitude = {lat}, \" \\\n",
    "        f\"gpsLatitude = {lng}\"\n",
    "    )\n",
    "    devices_with_gps += 1\n",
    "    \n",
    "    # Update the map.\n",
    "    marker = Marker(location=(lat, lng), title=mac, rise_on_hover=True, draggable=False, rotation_angle=180.0, rotation_origin='bottom center')\n",
    "    gps_markers += (marker,)\n",
    "    \n",
    "marker_cluster = MarkerCluster(markers=gps_markers)\n",
    "m.add_layer(marker_cluster)\n"
   ]
  },
  {
   "cell_type": "markdown",
   "metadata": {},
   "source": [
    "## GPS Summary"
   ]
  },
  {
   "cell_type": "code",
   "execution_count": null,
   "metadata": {},
   "outputs": [],
   "source": [
    "print(f\"{devices_with_gps} devices out of {total_devices} have GPS information\")"
   ]
  },
  {
   "cell_type": "markdown",
   "metadata": {},
   "source": [
    "## Iterate over list, looking for cellular information"
   ]
  },
  {
   "cell_type": "code",
   "execution_count": null,
   "metadata": {},
   "outputs": [],
   "source": [
    "devices_with_cellid = 0\n",
    "cell_markers = ()  # Empty tuple\n",
    "\n",
    "for device in my_devices:\n",
    "    \n",
    "    # Get the latest location data from InfluxDB\n",
    "    \"\"\"Note that the company name must be included in the WHERE clause!\n",
    "    (If you do not specify a company, the query will default to use the InfluxDB database for your primary company).\n",
    "\n",
    "    And because of the way Grafana [uses variables in queries](https://grafana.com/docs/grafana/latest/features/datasources/influxdb/#using-variables-in-queries), you have to wrap the company name as follows:\n",
    "    `\"companyName\" =~ /^My Company Inc.$/`\n",
    "\n",
    "    Following the Influx recommendations [here](https://docs.influxdata.com/influxdb/v1.7/troubleshooting/frequently-asked-questions/#when-should-i-single-quote-and-when-should-i-double-quote-in-queries), we single-quote string values and double-quote identifiers.\n",
    "    \"\"\"\n",
    "    mac = device['mac_address']\n",
    "    if device['company']:\n",
    "        company = device['company']['name']\n",
    "    else:\n",
    "        continue  # Stop curent iteration of for loop\n",
    "    \n",
    "    influx_query = f'SELECT LAST(\"mobileTechnology\"), LAST(\"mobilePLMN\"), LAST(\"mobileLAC\"), LAST(\"mobileCell\") FROM \"SNMP\" WHERE (\"macAddress\" = \\'{mac}\\' AND \"companyName\" =~ /^{company}$/)'\n",
    "    influx_response = get_monitoring_data(influx_query)\n",
    "    \n",
    "    if not influx_response:\n",
    "        continue  # Stop curent iteration of for loop\n",
    "    \n",
    "    [timestamp, mobileTechnology, PLMN, locationAreaCode, cellId] = influx_response['values'][0]\n",
    "    mobileCountryCode = PLMN[:3]\n",
    "    mobileNetworkCode = PLMN[3:]\n",
    "    print(\n",
    "        f\"mobileTechnology = {mobileTechnology}, \" \\\n",
    "        f\"mobileCountryCode = {mobileCountryCode}, \" \\\n",
    "        f\"mobileNetworkCode = {mobileNetworkCode}, \" \\\n",
    "        f\"locationAreaCode = {locationAreaCode}, \" \\\n",
    "        f\"cellId = {cellId}\"\n",
    "    )\n",
    "\n",
    "    if not(cellId and locationAreaCode):\n",
    "        continue  # Stop curent iteration of for loop\n",
    "    \n",
    "    devices_with_cellid += 1\n",
    "    \n",
    "    # Use Google's Geolocation API\n",
    "    \"\"\"See https://developers.google.com/maps/documentation/geolocation/intro\n",
    "    Note that when using requests.post with a json argument, the Content-Type header will be set to application/json automatically.\n",
    "    \"\"\"\n",
    "    body = {\n",
    "      \"cellTowers\": [\n",
    "        {\n",
    "            \"cellId\": int(cellId, 16),\n",
    "            \"locationAreaCode\": int(locationAreaCode, 16),\n",
    "            \"mobileCountryCode\": mobileCountryCode,\n",
    "            \"mobileNetworkCode\": mobileNetworkCode,\n",
    "        }\n",
    "      ]\n",
    "    }\n",
    "    google_response = lookup_geolocation(body, GOOGLE_KEY)\n",
    "    if not google_response:\n",
    "        continue\n",
    "    lat = google_response['location']['lat']\n",
    "    lng = google_response['location']['lng']\n",
    "    accuracy = google_response['accuracy']\n",
    "    \n",
    "    # Update the map.\n",
    "    # The accuracy, in meters, represents the radius of a circle around the given location.\n",
    "    circle = Circle()\n",
    "    circle.location = (lat, lng)\n",
    "    circle.radius = accuracy\n",
    "    m.add_layer(circle)\n",
    "    marker = Marker(location=(lat, lng), title=mac, rise_on_hover=True, draggable=False)\n",
    "    cell_markers += (marker,)\n",
    "    \n",
    "marker_cluster = MarkerCluster(markers=cell_markers)\n",
    "m.add_layer(marker_cluster)"
   ]
  },
  {
   "cell_type": "markdown",
   "metadata": {},
   "source": [
    "## Cellular Summary"
   ]
  },
  {
   "cell_type": "code",
   "execution_count": null,
   "metadata": {},
   "outputs": [],
   "source": [
    "print(f\"{devices_with_cellid} devices out of {total_devices} have cell tower information\")"
   ]
  },
  {
   "cell_type": "code",
   "execution_count": null,
   "metadata": {},
   "outputs": [],
   "source": []
  }
 ],
 "metadata": {
  "kernelspec": {
   "display_name": "Python 3",
   "language": "python",
   "name": "python3"
  },
  "language_info": {
   "codemirror_mode": {
    "name": "ipython",
    "version": 3
   },
   "file_extension": ".py",
   "mimetype": "text/x-python",
   "name": "python",
   "nbconvert_exporter": "python",
   "pygments_lexer": "ipython3",
   "version": "3.7.0"
  }
 },
 "nbformat": 4,
 "nbformat_minor": 2
}
