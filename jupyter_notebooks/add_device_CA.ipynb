{
 "cells": [
  {
   "cell_type": "markdown",
   "metadata": {},
   "source": [
    "[View source on GitHub]: https://github.com/wadmp/wadmp.github.io/blob/master/jupyter_notebooks/add_device_CA.ipynb\n",
    "[Notebook Viewer]: https://nbviewer.jupyter.org/github/wadmp/wadmp.github.io/blob/master/jupyter_notebooks/add_device_CA.ipynb\n",
    "[Run in binder]: https://mybinder.org/v2/gh/wadmp/wadmp.github.io/master?filepath=jupyter_notebooks%2Fadd_device_CA.ipynb\n",
    "[Run in Google Colab]: https://colab.research.google.com/github/wadmp/wadmp.github.io/blob/master/jupyter_notebooks/add_device_CA.ipynb\n",
    "\n",
    "| [![GitHub logo](https://raw.githubusercontent.com/wadmp/wadmp.github.io/master/images/github_logo.png)][View source on GitHub] | [![Jupyter logo](https://raw.githubusercontent.com/wadmp/wadmp.github.io/master/images/jupyter_logo.png)][Notebook Viewer] | [![binder logo](https://raw.githubusercontent.com/wadmp/wadmp.github.io/master/images/binder_logo.png)][Run in binder] | [![Colab logo](https://raw.githubusercontent.com/wadmp/wadmp.github.io/master/images/colab_logo.png)][Run in Google Colab] |\n",
    "|:---------------------:|:---------------:|:-------------:|:-------------------:|\n",
    "| [View source on GitHub] | [Notebook Viewer] | [Run in binder] | [Run in Google Colab] |"
   ]
  },
  {
   "cell_type": "markdown",
   "metadata": {},
   "source": [
    "## Introduction\n",
    "WebAccess/DMP will only allow \"trusted\" devices to connect.\n",
    "Trust is defined by a \"Public-Key Infrastructure\" which utilises X.509 certificates over TLS.\n",
    "This notebook allows you to add a new CA certificate to the \"trust store\" of a WebAccess/DMP Server.\n",
    "\n",
    "### Requirements\n",
    "* You need to have an existing user account on the WA/DMP server.\n",
    "* You must be a SysAdmin!\n",
    "\n",
    "### Usage\n",
    "In the \"Global Variables\" cell below, change BASE_URL to match the particular WA/DMP instance that you are using.\n",
    "\n",
    "Run the cells, either one at a time (Shift-Enter is your friend!), or all at once.\n",
    "\n",
    "When prompted, enter the required User Input."
   ]
  },
  {
   "cell_type": "markdown",
   "metadata": {},
   "source": [
    "## Setup"
   ]
  },
  {
   "cell_type": "code",
   "execution_count": null,
   "metadata": {},
   "outputs": [],
   "source": [
    "%%capture\n",
    "\n",
    "# Install packages in the current Jupyter kernel\n",
    "import sys\n",
    "!{sys.executable} -m pip install requests\n",
    "!{sys.executable} -m pip install cryptography\n",
    "\n",
    "import os\n",
    "from urllib.parse import urlparse, urlunparse\n",
    "import requests\n",
    "import json\n",
    "import base64\n",
    "import re\n",
    "from cryptography import x509\n",
    "from cryptography.x509.oid import NameOID\n",
    "from cryptography.hazmat.backends import default_backend"
   ]
  },
  {
   "cell_type": "markdown",
   "metadata": {},
   "source": [
    "## Global variables"
   ]
  },
  {
   "cell_type": "code",
   "execution_count": null,
   "metadata": {},
   "outputs": [],
   "source": [
    "BASE_URL = 'https://gateway.wadmp.com'\n",
    "BASE_PATH = 'api'\n",
    "SESSION = requests.Session()  # Use one HTTPS session for all API calls"
   ]
  },
  {
   "cell_type": "markdown",
   "metadata": {},
   "source": [
    "## Functions to be used later"
   ]
  },
  {
   "cell_type": "code",
   "execution_count": null,
   "metadata": {},
   "outputs": [],
   "source": [
    "def login(username, password):\n",
    "    \"\"\"Login to the system, and return a token\n",
    "    \"\"\"\n",
    "    url = f\"{BASE_URL}/public/auth/connect/token\"\n",
    "    credentials = {'username': username, 'password': password, 'client_id': 'python', 'grant_type': 'password'}\n",
    "    print(f\"Sending POST request to {url} with:\\n\"\n",
    "          f\"    credentials={credentials}\\n\")\n",
    "    response = SESSION.post(url, data=credentials)\n",
    "\n",
    "    print(response.status_code)\n",
    "    try:\n",
    "        print(json.dumps(response.json(), indent=4, sort_keys=True))\n",
    "    except ValueError:\n",
    "        print(response.text)\n",
    "\n",
    "    if response.status_code == requests.codes['ok']:\n",
    "        return response.json()[\"access_token\"]\n",
    "    else:\n",
    "        print(\"Failed to login!\")\n",
    "        sys.exit(1)\n",
    "\n",
    "\n",
    "def get_certs():\n",
    "    \"\"\"Gets the device CA certificates in the trust store of the Management Server.\n",
    "       The returned value is a Base64-encoded string of all of the trusted CA certs, in PEM format.\n",
    "    \"\"\"\n",
    "    url = f\"{BASE_URL}/{BASE_PATH}/certs\"\n",
    "    print(f\"Sending GET request to {url}\\n\")\n",
    "    response = SESSION.get(url)\n",
    "\n",
    "    print(response.status_code)\n",
    "    try:\n",
    "        print(json.dumps(response.json(), indent=4, sort_keys=True))\n",
    "    except ValueError:\n",
    "        print(response.text)\n",
    "\n",
    "    if response.status_code == requests.codes['ok']:\n",
    "        return response.json()['data']['certs']\n",
    "    else:\n",
    "        print(\"Failed to retrieve the certificates!\")\n",
    "        return None\n",
    "\n",
    "\n",
    "def put_certs(certs):\n",
    "    \"\"\"Replaces the device CA certificates in the trust store of the Management Server.\n",
    "       certs = Base64-encoded string, comprising ALL trusted CA certificates in PEM format.\n",
    "    \"\"\"\n",
    "    url = f\"{BASE_URL}/{BASE_PATH}/certs\"\n",
    "    print(f\"Sending PUT request to {url} with:\\n\"\n",
    "          f\"    certs={certs}\\n\")\n",
    "    body = {'certs': certs}\n",
    "    response = SESSION.put(url, json=body)\n",
    "\n",
    "    print(response.status_code)\n",
    "    try:\n",
    "        print(json.dumps(response.json(), indent=4, sort_keys=True))\n",
    "    except ValueError:\n",
    "        print(response.text)\n",
    "\n",
    "    if response.status_code == requests.codes['ok']:\n",
    "        return response.json()['success']\n",
    "    else:\n",
    "        print(\"Failed to edit MS definition!\")\n",
    "        return None"
   ]
  },
  {
   "cell_type": "markdown",
   "metadata": {},
   "source": [
    "## User input"
   ]
  },
  {
   "cell_type": "code",
   "execution_count": null,
   "metadata": {},
   "outputs": [],
   "source": [
    "USERNAME = input(\"Username on WebAccess/DMP:\")\n",
    "PASSWORD = input(\"Password on WebAccess/DMP:\")"
   ]
  },
  {
   "cell_type": "markdown",
   "metadata": {},
   "source": [
    "## Login to Server"
   ]
  },
  {
   "cell_type": "code",
   "execution_count": null,
   "metadata": {},
   "outputs": [],
   "source": [
    "user_token = login(USERNAME, PASSWORD)\n",
    "SESSION.headers.update({'Authorization': f'Bearer {user_token}'})"
   ]
  },
  {
   "cell_type": "markdown",
   "metadata": {},
   "source": [
    "## Check the Trust Store"
   ]
  },
  {
   "cell_type": "code",
   "execution_count": null,
   "metadata": {},
   "outputs": [],
   "source": [
    "certs_b64 = get_certs()\n",
    "certs_pem = base64.b64decode(certs_b64).decode('utf-8')  # b64decode() returns a \"bytes-like\" object\n",
    "\n",
    "pattern = r\"(-----BEGIN CERTIFICATE-----[A-Za-z0-9+/=\\s]+-----END CERTIFICATE-----)\"\n",
    "\n",
    "certs_list = re.findall(pattern, certs_pem, re.MULTILINE)\n",
    "print(f\"{len(certs_list)} certs:\")\n",
    "for cert_pem in certs_list:\n",
    "    # load_pem_x509_certificate() takes a \"bytes-like\" object\n",
    "    cert_object = x509.load_pem_x509_certificate(cert_pem.encode('utf-8'), default_backend())\n",
    "    print(f\"   - {cert_object.subject.get_attributes_for_oid(NameOID.COMMON_NAME)[0].value}\")"
   ]
  },
  {
   "cell_type": "markdown",
   "metadata": {},
   "source": [
    "## User input"
   ]
  },
  {
   "cell_type": "code",
   "execution_count": null,
   "metadata": {},
   "outputs": [],
   "source": [
    "new_cert_b64 = input(\"Certificate to be added (as a Base64-encoded string!):\")\n",
    "\n",
    "new_cert_pem = base64.b64decode(new_cert_b64).decode('utf-8')  # b64decode() returns a \"bytes-like\" object\n",
    "\n",
    "pattern = r\"^(-----BEGIN CERTIFICATE-----[A-Za-z0-9+/=\\s]+-----END CERTIFICATE-----)$\"\n",
    "\n",
    "match = re.search(pattern, new_cert_pem)\n",
    "if match:\n",
    "    # load_pem_x509_certificate() takes a \"bytes-like\" object\n",
    "    cert_object = x509.load_pem_x509_certificate(match.group(1).encode('utf-8'), default_backend())\n",
    "    print(f\"This cert has the following attributes:\")\n",
    "    print(f\"   - {cert_object.subject.get_attributes_for_oid(NameOID.COMMON_NAME)[0].value}\")\n",
    "else:\n",
    "    print(\"This isn't a valid certificate!\")"
   ]
  },
  {
   "cell_type": "markdown",
   "metadata": {},
   "source": [
    "## Add the new cert to the Trust Store "
   ]
  },
  {
   "cell_type": "code",
   "execution_count": null,
   "metadata": {},
   "outputs": [],
   "source": [
    "new_certs_pem = certs_pem + \"\\n\" + new_cert_pem\n",
    "new_certs_b64 = base64.b64encode(new_certs_pem.encode('utf-8')).decode('utf-8')  # b64encode() takes a \"bytes-like\" object and returns bytes\n",
    "put_certs(new_certs_b64)"
   ]
  },
  {
   "cell_type": "markdown",
   "metadata": {},
   "source": [
    "## Check the Trust Store again"
   ]
  },
  {
   "cell_type": "code",
   "execution_count": null,
   "metadata": {},
   "outputs": [],
   "source": [
    "certs_b64 = get_certs()\n",
    "certs_pem = base64.b64decode(certs_b64).decode('utf-8')  # b64decode() returns a \"bytes-like\" object\n",
    "\n",
    "pattern = r\"(-----BEGIN CERTIFICATE-----[A-Za-z0-9+/=\\s]+-----END CERTIFICATE-----)\"\n",
    "\n",
    "certs_list = re.findall(pattern, certs_pem, re.MULTILINE)\n",
    "print(f\"{len(certs_list)} certs:\")\n",
    "for cert_pem in certs_list:\n",
    "    # load_pem_x509_certificate() takes a \"bytes-like\" object\n",
    "    cert_object = x509.load_pem_x509_certificate(cert_pem.encode('utf-8'), default_backend())\n",
    "    print(f\"   - {cert_object.subject.get_attributes_for_oid(NameOID.COMMON_NAME)[0].value}\")"
   ]
  },
  {
   "cell_type": "code",
   "execution_count": null,
   "metadata": {},
   "outputs": [],
   "source": []
  }
 ],
 "metadata": {
  "kernelspec": {
   "display_name": "Python 3",
   "language": "python",
   "name": "python3"
  },
  "language_info": {
   "codemirror_mode": {
    "name": "ipython",
    "version": 3
   },
   "file_extension": ".py",
   "mimetype": "text/x-python",
   "name": "python",
   "nbconvert_exporter": "python",
   "pygments_lexer": "ipython3",
   "version": "3.7.0"
  }
 },
 "nbformat": 4,
 "nbformat_minor": 4
}
