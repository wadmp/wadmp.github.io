{
 "cells": [
  {
   "cell_type": "markdown",
   "metadata": {},
   "source": [
    "[View source on GitHub]: https://github.com/wadmp/wadmp.github.io/blob/master/jupyter_notebooks/move_device.ipynb\n",
    "[Notebook Viewer]: https://nbviewer.jupyter.org/github/wadmp/wadmp.github.io/blob/master/jupyter_notebooks/move_device.ipynb\n",
    "[Run in binder]: https://mybinder.org/v2/gh/wadmp/wadmp.github.io/master?filepath=jupyter_notebooks%2Fmove_device.ipynb\n",
    "[Run in Google Colab]: https://colab.research.google.com/github/wadmp/wadmp.github.io/blob/master/jupyter_notebooks/move_device.ipynb\n",
    "\n",
    "| [![GitHub logo](https://raw.githubusercontent.com/wadmp/wadmp.github.io/master/images/github_logo.png)][View source on GitHub] | [![Jupyter logo](https://raw.githubusercontent.com/wadmp/wadmp.github.io/master/images/jupyter_logo.png)][Notebook Viewer] | [![binder logo](https://raw.githubusercontent.com/wadmp/wadmp.github.io/master/images/binder_logo.png)][Run in binder] | [![Colab logo](https://raw.githubusercontent.com/wadmp/wadmp.github.io/master/images/colab_logo.png)][Run in Google Colab] |\n",
    "|:---------------------:|:---------------:|:-------------:|:-------------------:|\n",
    "| [View source on GitHub] | [Notebook Viewer] | [Run in binder] | [Run in Google Colab] |"
   ]
  },
  {
   "cell_type": "markdown",
   "metadata": {},
   "source": [
    "## Introduction\n",
    "This notebook allows you to move a device from one WebAccess/DMP Management Server (\"Server 1\") to another WebAccess/DMP Management Server (\"Server 2\").\n",
    "\n",
    "> For background information, see [How to move a device to another Management Server](https://docs.wadmp.com/how-tos/move-a-device.md)\n",
    "\n",
    "It does several things:\n",
    "1. Identify what Bootstrap Server the device is using. This is usually Server 1, but it may not be. We call it Server 0.\n",
    "1. Create the device on Server 2; (if it is there already, that is not a problem)\n",
    "2. Configure the TLS \"trust store\" on Server 2 to trust devices that present a certificate that was signed by Server 0;\n",
    "3. Configure the Bootstrap Server on Server 0 to direct the device to Server 2;\n",
    "4. Trigger the device (via Server 1) to Bootstrap again.\n",
    "\n",
    "### Requirements\n",
    "* You need to have an existing user account on *both* WA/DMP servers.\n",
    "* The device in question must exist on Server 1.\n",
    "  * It does not necessarily need to be currently online on Server 1, but if it is not online then obviously you won't be able to confirm if the script has worked!\n",
    "* On Server 0, you must have the \"Device Management Server\" permission.\n",
    "* On Server 2, you must be a SysAdmin!\n",
    "\n",
    "### Usage\n",
    "Run the cells, either one at a time (Shift-Enter is your friend!), or all at once.\n",
    "\n",
    "When prompted, enter the required User Input.\n",
    "\n",
    "> Note that when entering the URL of each WA/DMP server, you should use the URL that you use in your web browser,\n",
    "> when viewing the \"User Interface\" of WebAccess/DMP. e.g. \"wadmp.com\" or \"dev.wadmp.com\".\n",
    "> The URL for the corresponding API gateway will be calculated automatically: https://gateway.wadmp.com or https://gateway.dev.wadmp.com."
   ]
  },
  {
   "cell_type": "markdown",
   "metadata": {},
   "source": [
    "## Setup"
   ]
  },
  {
   "cell_type": "code",
   "execution_count": null,
   "metadata": {},
   "outputs": [],
   "source": [
    "%%capture\n",
    "\n",
    "# Install packages in the current Jupyter kernel\n",
    "import sys\n",
    "!{sys.executable} -m pip install requests\n",
    "!{sys.executable} -m pip install pyjwt\n",
    "!{sys.executable} -m pip install cryptography\n",
    "\n",
    "import os\n",
    "from urllib.parse import urlparse, urlunparse\n",
    "import requests\n",
    "import json\n",
    "import base64\n",
    "import re\n",
    "import jwt\n",
    "from cryptography import x509\n",
    "from cryptography.x509.oid import NameOID\n",
    "from cryptography.hazmat.backends import default_backend"
   ]
  },
  {
   "cell_type": "markdown",
   "metadata": {},
   "source": [
    "## Global variables"
   ]
  },
  {
   "cell_type": "code",
   "execution_count": null,
   "metadata": {},
   "outputs": [],
   "source": [
    "BASE_PATH = 'api'\n",
    "SCHEME = 'https'\n",
    "SESSION1 = requests.Session()  # Use one HTTPS session for all API calls to Server 1\n",
    "SESSION2 = requests.Session()  # Use one HTTPS session for all API calls to Server 2"
   ]
  },
  {
   "cell_type": "markdown",
   "metadata": {},
   "source": [
    "## Functions to be used later"
   ]
  },
  {
   "cell_type": "code",
   "execution_count": null,
   "metadata": {},
   "outputs": [],
   "source": [
    "def login(base_url, session, username, password):\n",
    "    \"\"\"Login to the system, and return a token\n",
    "    \"\"\"\n",
    "    url = f\"{base_url}/public/auth/connect/token\"\n",
    "    credentials = {'username': username, 'password': password, 'client_id': 'python', 'grant_type': 'password'}\n",
    "    print(f\"Sending POST request to {url} with:\\n\"\n",
    "          f\"    credentials={credentials}\\n\")\n",
    "    response = session.post(url, data=credentials)\n",
    "\n",
    "    print(response.status_code)\n",
    "    try:\n",
    "        print(json.dumps(response.json(), indent=4, sort_keys=True))\n",
    "    except ValueError:\n",
    "        print(response.text)\n",
    "\n",
    "    if response.status_code == requests.codes['ok']:\n",
    "        return response.json()[\"access_token\"]\n",
    "    else:\n",
    "        print(\"Failed to login!\")\n",
    "        sys.exit(1)\n",
    "\n",
    "\n",
    "def get_devices(base_url, session, page_number, page_size, name):\n",
    "    \"\"\"Retrieves one page of the list of your devices.\n",
    "       name = Optional filter for device’s alias.\n",
    "    \"\"\"\n",
    "    url = f\"{base_url}/{BASE_PATH}/management/devices\"\n",
    "\n",
    "    # The only REQUIRED query parameters are page and pageSize\n",
    "    print(f\"Sending GET request to {url} with:\\n\"\n",
    "          f\"    name={name}\\n\"\n",
    "          f\"    page={page_number}\\n\"\n",
    "          f\"    pageSize={page_size}\")\n",
    "    query = {'name': name, 'page': page_number, 'pageSize': page_size}\n",
    "    response = session.get(url, params=query)\n",
    "\n",
    "    print(response.status_code)\n",
    "    try:\n",
    "        print(json.dumps(response.json(), indent=4, sort_keys=True))\n",
    "    except ValueError:\n",
    "        print(response.text)\n",
    "    \n",
    "    if response.status_code == requests.codes['ok']:\n",
    "        return response.json()['data']\n",
    "    else:\n",
    "        print(f\"Failed to retrieve page {page_number} of devices!\")\n",
    "        return None\n",
    "\n",
    "\n",
    "def get_apps_in_device(base_url, session, mac):\n",
    "    \"\"\"Gets apps installed in a device.\n",
    "    \"\"\"\n",
    "    url = f\"{base_url}/{BASE_PATH}/management/devices/{mac}/apps\"\n",
    "\n",
    "    print(f\"Sending GET request to {url}:\\n\")\n",
    "    response = session.get(url)\n",
    "\n",
    "    print(response.status_code)\n",
    "    try:\n",
    "        print(json.dumps(response.json(), indent=4, sort_keys=True))\n",
    "    except ValueError:\n",
    "        print(response.text)\n",
    "    \n",
    "    if response.status_code == requests.codes['ok']:\n",
    "        return response.json()['data']\n",
    "    else:\n",
    "        print(f\"Failed to retrieve list of apps!\")\n",
    "        return None\n",
    "\n",
    "\n",
    "def get_app_version_id(app_name, list_of_apps):\n",
    "    \"\"\"Get application version ID from a list of apps, such as that returned by get_apps_in_device()\n",
    "    \"\"\"\n",
    "    for app in list_of_apps:\n",
    "        if app[\"application_version\"][\"application\"][\"name\"] == app_name:\n",
    "            return app[\"application_version\"][\"id\"]\n",
    "\n",
    "    return None\n",
    "\n",
    "\n",
    "def get_app_configuration(base_url, session, mac, app_name):\n",
    "    \"\"\"Get the desired and reported settings (of all sections) of an app in a device.\n",
    "    \"\"\"\n",
    "    apps = get_apps_in_device(base_url, session, mac)\n",
    "    app_version_id = get_app_version_id(app_name, apps)\n",
    "    \n",
    "    url = f\"{base_url}/{BASE_PATH}/management/devices/{mac}/apps/{app_version_id}/settings\"\n",
    "\n",
    "    print(f\"Sending GET request to {url}:\\n\")\n",
    "    response = session.get(url)\n",
    "\n",
    "    print(response.status_code)\n",
    "    try:\n",
    "        print(json.dumps(response.json(), indent=4, sort_keys=True))\n",
    "    except ValueError:\n",
    "        print(response.text)\n",
    "    \n",
    "    if response.status_code == requests.codes['ok']:\n",
    "        return response.json()['data'][0]\n",
    "    else:\n",
    "        print(f\"Failed to retrieve the app configuration!\")\n",
    "        return None\n",
    "    \n",
    "\n",
    "def ini_to_dict(ini_string):\n",
    "    \"\"\"Convert an INI-format string to a dictionary.\n",
    "    \n",
    "    e.g.\n",
    "    \"MOD_WADMP_CLIENT_ENABLED=1\\nMOD_WADMP_CLIENT_BOOTSTRAPSERVER=bootstrap.wadmp.com\\nMOD_WADMP_CLIENT_BOOTSTRAPPORT=8884\\nMOD_WADMP_CLIENT_LOGLEVEL=debug\\nMOD_WADMP_CLIENT_MONITORING_ENABLED=1\\nMOD_WADMP_CLIENT_MONITORING_INTERVAL=15\\n\"\n",
    "    becomes\n",
    "    {\n",
    "        MOD_WADMP_CLIENT_ENABLED: 1\n",
    "        MOD_WADMP_CLIENT_BOOTSTRAPSERVER: bootstrap.wadmp.com\n",
    "        MOD_WADMP_CLIENT_BOOTSTRAPPORT: 8884\n",
    "        MOD_WADMP_CLIENT_LOGLEVEL: debug\n",
    "        MOD_WADMP_CLIENT_MONITORING_ENABLED: 1\n",
    "        MOD_WADMP_CLIENT_MONITORING_INTERVAL: 15\n",
    "    }\n",
    "    \"\"\"\n",
    "    d = {}\n",
    "    for config_item in ini_string.splitlines():\n",
    "        key, value = config_item.split('=')\n",
    "        d[key]=value\n",
    "    \n",
    "    return d\n",
    "\n",
    "\n",
    "def create_device(base_url, session, model=None):\n",
    "    \"\"\"Create a device in the system.\n",
    "    \"\"\"\n",
    "    url = f\"{base_url}/{BASE_PATH}/identity/devices\"\n",
    "    print(f\"Sending POST request to {url} with:\\n\"\n",
    "          f\"    model={model}\\n\")\n",
    "    response = session.post(url, json=model)\n",
    "\n",
    "    print(response.status_code)\n",
    "    try:\n",
    "        print(json.dumps(response.json(), indent=4, sort_keys=True))\n",
    "    except ValueError:\n",
    "        print(response.text)\n",
    "\n",
    "    if response.status_code == requests.codes['ok']:\n",
    "        return response.json()['data']['id']\n",
    "    else:\n",
    "        print.error(\"Failed to create device!\")\n",
    "        return None\n",
    "\n",
    "\n",
    "def get_ms(base_url, session, Name=None, Address=None):\n",
    "    \"\"\"Gets the list of Management Server definition in the system.\n",
    "    \"\"\"\n",
    "    url = f\"{base_url}/{BASE_PATH}/bootstrap\"\n",
    "    print(f\"Sending GET request to {url} with:\\n\"\n",
    "          f\"    Name={Name}\\n\"\n",
    "          f\"    Address={Address}\\n\")\n",
    "    query = {'Name': Name, 'Address': Address}\n",
    "    response = session.get(url, params=query)\n",
    "\n",
    "    print(response.status_code)\n",
    "    try:\n",
    "        print(json.dumps(response.json(), indent=4, sort_keys=True))\n",
    "    except ValueError:\n",
    "        print(response.text)\n",
    "\n",
    "    if response.status_code == requests.codes['ok']:\n",
    "        return response.json()['data']\n",
    "    else:\n",
    "        print(\"Failed to retrieve the list of Management Servers!\")\n",
    "        return None\n",
    "\n",
    "\n",
    "def create_ms(base_url, session, name, address, port, company_id):\n",
    "    \"\"\"Creates a new Management Server definition in the system.\n",
    "    \n",
    "       name: is not important: it serves as a label or reminder for the user only.\n",
    "       address: is the IP address or DNS name of the Management Server.\n",
    "       port: is the TCP port number of the Management Server. (Usually 8883, which is the standard port number for MQTT over TLS.)\n",
    "       company_id: is your company ID in the system.\n",
    "    \"\"\"\n",
    "    url = f\"{base_url}/{BASE_PATH}/bootstrap\"\n",
    "    print(f\"Sending POST request to {url} with:\\n\"\n",
    "          f\"    name={name}\\n\"\n",
    "          f\"    address={address}\\n\"\n",
    "          f\"    port={port}\\n\"\n",
    "          f\"    company_id={company_id}\\n\")\n",
    "    body = {'name': name, 'address': address, 'port': port, 'company_id': company_id}\n",
    "    response = session.post(url, json=body)\n",
    "\n",
    "    print(response.status_code)\n",
    "    try:\n",
    "        print(json.dumps(response.json(), indent=4, sort_keys=True))\n",
    "    except ValueError:\n",
    "        print(response.text)\n",
    "\n",
    "    if response.status_code == requests.codes['ok']:\n",
    "        return response.json()['data']['id']\n",
    "    else:\n",
    "        print(\"Failed to create new MS definition!\")\n",
    "        return None\n",
    "\n",
    "\n",
    "def use_ms(base_url, session, mac, ms_id):\n",
    "    \"\"\"Configure a device to use a new Management Server.\n",
    "       This will only take effect when the device Bootstraps again.\n",
    "    \"\"\"\n",
    "    url = f\"{base_url}/{BASE_PATH}/management/devices/{mac}/bootstrap-server/{ms_id}\"\n",
    "    print(f\"Sending PUT request to {url}\\n\")\n",
    "    response = session.put(url)\n",
    "\n",
    "    print(response.status_code)\n",
    "    try:\n",
    "        print(json.dumps(response.json(), indent=4, sort_keys=True))\n",
    "    except ValueError:\n",
    "        print(response.text)\n",
    "\n",
    "    if response.status_code == requests.codes['ok']:\n",
    "        return response.json()['success']\n",
    "    else:\n",
    "        print(\"Failed to configure device to use MS!\")\n",
    "        return None\n",
    "\n",
    "\n",
    "def trigger_bootstrap(base_url, session, mac):\n",
    "    \"\"\"Sends a command to trigger bootstrap process on a device.\n",
    "    \"\"\"\n",
    "    url = f\"{base_url}/{BASE_PATH}/management/devices/{mac}/commands/trigger-bootstrap\"\n",
    "    print(f\"Sending POST request to {url}\\n\")\n",
    "    response = session.post(url)\n",
    "\n",
    "    print(response.status_code)\n",
    "    try:\n",
    "        print(json.dumps(response.json(), indent=4, sort_keys=True))\n",
    "    except ValueError:\n",
    "        print(response.text)\n",
    "\n",
    "    if response.status_code == requests.codes['ok']:\n",
    "        return response.json()['success']\n",
    "    else:\n",
    "        print.error(\"Failed to trigger bootstrap!\")\n",
    "        return None\n",
    "\n",
    "\n",
    "def get_certs(base_url, session):\n",
    "    \"\"\"Gets the device CA certificates in the trust store of the Management Server.\n",
    "       The returned value is a Base64-encoded string of all of the trusted CA certs, in PEM format.\n",
    "    \"\"\"\n",
    "    url = f\"{base_url}/{BASE_PATH}/certs\"\n",
    "    print(f\"Sending GET request to {url}\\n\")\n",
    "    response = session.get(url)\n",
    "\n",
    "    print(response.status_code)\n",
    "    try:\n",
    "        print(json.dumps(response.json(), indent=4, sort_keys=True))\n",
    "    except ValueError:\n",
    "        print(response.text)\n",
    "\n",
    "    if response.status_code == requests.codes['ok']:\n",
    "        return response.json()['data']['certs']\n",
    "    else:\n",
    "        print(\"Failed to retrieve the certificates!\")\n",
    "        return None\n",
    "\n",
    "\n",
    "def put_certs(base_url, session, certs):\n",
    "    \"\"\"Replaces the device CA certificates in the trust store of the Management Server.\n",
    "       certs = Base64-encoded string, comprising ALL trusted CA certificates in PEM format.\n",
    "    \"\"\"\n",
    "    url = f\"{base_url}/{BASE_PATH}/certs\"\n",
    "    print(f\"Sending PUT request to {url} with:\\n\"\n",
    "          f\"    certs={certs}\\n\")\n",
    "    body = {'certs': certs}\n",
    "    response = session.put(url, json=body)\n",
    "\n",
    "    print(response.status_code)\n",
    "    try:\n",
    "        print(json.dumps(response.json(), indent=4, sort_keys=True))\n",
    "    except ValueError:\n",
    "        print(response.text)\n",
    "\n",
    "    if response.status_code == requests.codes['ok']:\n",
    "        return response.json()['success']\n",
    "    else:\n",
    "        print(\"Failed to edit MS definition!\")\n",
    "        return None"
   ]
  },
  {
   "cell_type": "markdown",
   "metadata": {},
   "source": [
    "## User input\n",
    "Reference: https://docs.python.org/3/library/urllib.parse.html#url-parsing"
   ]
  },
  {
   "cell_type": "code",
   "execution_count": null,
   "metadata": {},
   "outputs": [],
   "source": [
    "device_name = input(\"Enter device alias or MAC address:\")\n",
    "\n",
    "SERVER1 = input(\"Enter the URL of Server 1 (where the device is currently connected. E.g. 'dev.wadmp.com'):\")\n",
    "USERNAME1 = input(\"Username on Server 1:\")\n",
    "PASSWORD1 = input(\"Password on Server 1:\")\n",
    "\n",
    "# If the URL for the UI is \"dev.wadmp.com\", the URL for the API Gateway is \"https://gateway.dev.wadmp.com\"\n",
    "url = urlparse(f\"{SCHEME}://{SERVER1}\")\n",
    "new_netloc = f\"gateway.{url.netloc}\"\n",
    "GATEWAY1 = urlunparse(url._replace(netloc=new_netloc))\n",
    "new_netloc = f\"bootstrap.{url.netloc}\"\n",
    "BS1 = urlunparse(url._replace(netloc=new_netloc))\n",
    "\n",
    "# If the URL for the UI is \"https://dev.wadmp.com\",\n",
    "# the URL for the Bootstrap Server is \"bootstrap.dev.wadmp.com\"\n",
    "BS1 = f\"bootstrap.{url.netloc}\"\n",
    "# and the Management Server is \"management.dev.wadmp.com\"\n",
    "MS1 = f\"management.{url.netloc}\"\n",
    "\n",
    "SERVER2 = input(\"Enter the URL of Server 2 (where you want the device to connect to next):\")\n",
    "USERNAME2 = input(\"Username of SysAdmin on Server 2:\")\n",
    "PASSWORD2 = input(\"Password on Server 2:\")\n",
    "\n",
    "# If the URL for the UI is \"https://wadmp.com\", the URL for the API Gateway is \"https://gateway.wadmp.com\"\n",
    "url = urlparse(f\"{SCHEME}://{SERVER2}\")\n",
    "new_netloc = f\"gateway.{url.netloc}\"\n",
    "GATEWAY2 = urlunparse(url._replace(netloc=new_netloc))\n",
    "\n",
    "# If the URL for the UI is \"https://wadmp.com\",\n",
    "# the URL for the Bootstrap Server is \"bootstrap.wadmp.com\"\n",
    "BS2 = f\"bootstrap.{url.netloc}\"\n",
    "# and the Management Server is \"management.wadmp.com\"\n",
    "MS2 = f\"management.{url.netloc}\""
   ]
  },
  {
   "cell_type": "markdown",
   "metadata": {},
   "source": [
    "## Login to Server 1"
   ]
  },
  {
   "cell_type": "code",
   "execution_count": null,
   "metadata": {},
   "outputs": [],
   "source": [
    "user1_token = login(GATEWAY1, SESSION1, USERNAME1, PASSWORD1)\n",
    "SESSION1.headers.update({'Authorization': f'Bearer {user1_token}'})"
   ]
  },
  {
   "cell_type": "markdown",
   "metadata": {},
   "source": [
    "## Check that the device exists on Server 1"
   ]
  },
  {
   "cell_type": "code",
   "execution_count": null,
   "metadata": {},
   "outputs": [],
   "source": [
    "device = get_devices(GATEWAY1, SESSION1, 1, 10, device_name)[0]"
   ]
  },
  {
   "cell_type": "markdown",
   "metadata": {},
   "source": [
    "## Login to Server 2"
   ]
  },
  {
   "cell_type": "code",
   "execution_count": null,
   "metadata": {},
   "outputs": [],
   "source": [
    "user2_token = login(GATEWAY2, SESSION2, USERNAME2, PASSWORD2)\n",
    "SESSION2.headers.update({'Authorization': f'Bearer {user2_token}'})"
   ]
  },
  {
   "cell_type": "markdown",
   "metadata": {},
   "source": [
    "## Create the device on Server 2"
   ]
  },
  {
   "cell_type": "code",
   "execution_count": null,
   "metadata": {},
   "outputs": [],
   "source": [
    "# Check if it exists already\n",
    "try:\n",
    "    device2 = get_devices(GATEWAY2, SESSION2, 1, 10, device_name)[0]\n",
    "except IndexError:\n",
    "    print(f\"Device {device_name} does not exist on Server 2. Creating it ...\")\n",
    "    model = {\n",
    "      \"alias\": device['alias'],\n",
    "      \"serial_number\": device['serial_number'],\n",
    "      \"mac_address\": device['mac_address'],\n",
    "      \"device_type_id\": device['device_type']['type_id'],\n",
    "      \"order_code\": device['order_code'],\n",
    "      \"imei\": device['imei']\n",
    "    }\n",
    "    create_device(GATEWAY2, SESSION2, model=model)\n",
    "else:\n",
    "    print(f\"Device {device_name} already exists on Server 2\")"
   ]
  },
  {
   "cell_type": "markdown",
   "metadata": {},
   "source": [
    "## Check what Bootstrap Server the device is using"
   ]
  },
  {
   "cell_type": "code",
   "execution_count": null,
   "metadata": {},
   "outputs": [],
   "source": [
    "client_config = get_app_configuration(GATEWAY1, SESSION1, device['mac_address'], 'wadmp_client')\n",
    "bs_url = ini_to_dict(client_config['reported_configuration'])['MOD_WADMP_CLIENT_BOOTSTRAPSERVER']\n",
    "print(f\"This device is configured to use {bs_url} as a Bootstrap Server\")"
   ]
  },
  {
   "cell_type": "code",
   "execution_count": null,
   "metadata": {},
   "outputs": [],
   "source": [
    "# Usually, the device's Bootstrap Server is Server 1 or Server 2, but it may not be!\n",
    "# We refer to it as Server 0.\n",
    "if bs_url == BS1:\n",
    "    print(\"The Bootstrap Server is on Server 1\")\n",
    "    MS0 = MS1\n",
    "    GATEWAY0 = GATEWAY1\n",
    "    SESSION0 = SESSION1\n",
    "    user0_token = user1_token\n",
    "elif bs_url == BS2:\n",
    "    print(\"The Bootstrap Server is on Server 2\")\n",
    "    MS0 = MS2\n",
    "    GATEWAY0 = GATEWAY2\n",
    "    SESSION0 = SESSION2\n",
    "    user0_token = user2_token\n",
    "else:\n",
    "    print(\"The Bootstrap Server is on a third server, on which you must have credentials ...\")\n",
    "    USERNAME0 = input(\"Username of SysAdmin on Bootstrap Server:\")\n",
    "    PASSWORD0 = input(\"Password on Bootstrap Server:\")\n",
    "\n",
    "    # If bs_url is \"bootstrap.dev.wadmp.com\", the URL for the API Gateway is \"https://gateway.dev.wadmp.com\"\n",
    "    netloc = bs_url.replace('bootstrap', 'gateway')\n",
    "    GATEWAY0 = f\"{SCHEME}://{netloc}\"\n",
    "    # and the Management Server is \"management.dev.wadmp.com\"\n",
    "    MS0 = bs_url.replace('bootstrap', 'management')\n",
    "\n",
    "    SESSION0 = requests.Session()  # Use one HTTPS session for all API calls to Bootstrap Server\n",
    "    user0_token = login(GATEWAY0, SESSION0, USERNAME0, PASSWORD0)\n",
    "    SESSION0.headers.update({'Authorization': f'Bearer {user0_token}'})"
   ]
  },
  {
   "cell_type": "markdown",
   "metadata": {},
   "source": [
    "## Configure the Trust Store on Server 2\n",
    "We take a conservative approach: any certificates in Server 1 that are NOT in Server 2 will be added to Server 2\n",
    "\n",
    "First, check what certs are present in Server 2:"
   ]
  },
  {
   "cell_type": "code",
   "execution_count": null,
   "metadata": {},
   "outputs": [],
   "source": [
    "certs2_b64 = get_certs(GATEWAY2, SESSION2)\n",
    "certs2_pem = base64.b64decode(certs2_b64).decode('utf-8')  # b64decode() returns a \"bytes-like\" object\n",
    "\n",
    "pattern = r\"(-----BEGIN CERTIFICATE-----[A-Za-z0-9+/=\\s]+-----END CERTIFICATE-----)\"\n",
    "\n",
    "certs2_list = re.findall(pattern, certs2_pem, re.MULTILINE)\n",
    "certs2_dict = {}\n",
    "print(f\"{MS2} has {len(certs2_list)} certs:\")\n",
    "for cert_pem in certs2_list:\n",
    "    # load_pem_x509_certificate() takes a \"bytes-like\" object\n",
    "    cert_object = x509.load_pem_x509_certificate(cert_pem.encode('utf-8'), default_backend())\n",
    "    print(f\"   - {cert_object.subject.get_attributes_for_oid(NameOID.COMMON_NAME)[0].value}\")\n",
    "    certs2_dict[cert_object.subject] = cert_pem"
   ]
  },
  {
   "cell_type": "markdown",
   "metadata": {},
   "source": [
    "Now, check what certs are present in Server 1:"
   ]
  },
  {
   "cell_type": "code",
   "execution_count": null,
   "metadata": {},
   "outputs": [],
   "source": [
    "certs1_b64 = get_certs(GATEWAY1, SESSION1)\n",
    "certs1_pem = base64.b64decode(certs1_b64).decode('utf-8')\n",
    "new_certs2_pem = certs2_pem  # We will append to this string\n",
    "update_required = False\n",
    "\n",
    "certs1_list = re.findall(pattern, certs1_pem, re.MULTILINE)\n",
    "print(f\"{MS1} has {len(certs1_list)} certs:\")\n",
    "for cert_pem in certs1_list:\n",
    "    cert_object = x509.load_pem_x509_certificate(cert_pem.encode('utf-8'), default_backend())\n",
    "    print(f\"   - {cert_object.subject.get_attributes_for_oid(NameOID.COMMON_NAME)[0].value}\")\n",
    "    if cert_object.subject in certs2_dict:\n",
    "        print(f\"     Also in {MS2}\")\n",
    "    else:\n",
    "        print(f\"     Not in {MS2} ... will be added!\")\n",
    "        new_certs2_pem += \"\\n\" + cert_pem\n",
    "        update_required = True"
   ]
  },
  {
   "cell_type": "markdown",
   "metadata": {},
   "source": [
    "Now, add any missing certs:"
   ]
  },
  {
   "cell_type": "code",
   "execution_count": null,
   "metadata": {},
   "outputs": [],
   "source": [
    "if update_required:\n",
    "    new_certs2_b64 = base64.b64encode(new_certs2_pem.encode('utf-8')).decode('utf-8')  # b64encode() takes a \"bytes-like\" object and returns bytes\n",
    "    put_certs(GATEWAY2, SESSION2, new_certs2_b64)\n",
    "else:\n",
    "    print(\"\\nNo change required.\")"
   ]
  },
  {
   "cell_type": "markdown",
   "metadata": {},
   "source": [
    "## Find a Company ID on Server 0\n",
    "We need a company ID later when creating a new Management Server definition on Server 0.\n",
    "Our first choice is the company which has claimed the device.\n",
    "If the device has not been claimed, we use one of the companies of which the user is a member."
   ]
  },
  {
   "cell_type": "code",
   "execution_count": null,
   "metadata": {},
   "outputs": [],
   "source": [
    "device = get_devices(GATEWAY0, SESSION0, 1, 10, device_name)[0]\n",
    "\n",
    "if device['company']:\n",
    "    company_id = device['company']['id']\n",
    "else:\n",
    "    claims = jwt.decode(user0_token, verify=False)\n",
    "    company_ids = [key.split('.')[1] for key in claims.keys() if re.match(r\"permissions\\.\\d+\", key)]\n",
    "    # We should probably check the permissions here, but for simplicity we just use the first company\n",
    "    company_id = company_ids[0]"
   ]
  },
  {
   "cell_type": "markdown",
   "metadata": {},
   "source": [
    "## Inform the Bootstrap Server (0) that Server 2 is available as a new Management Server"
   ]
  },
  {
   "cell_type": "code",
   "execution_count": null,
   "metadata": {},
   "outputs": [],
   "source": [
    "ms_definitions = get_ms(GATEWAY0, SESSION0, Address=MS2)\n",
    "\n",
    "if len(ms_definitions) == 0:\n",
    "    print(f\"We need to create {MS2} as a new MS definition on {MS0}\")\n",
    "    ms_id = create_ms(GATEWAY0, SESSION0, 'Server 2', MS2, 8883, company_id)\n",
    "else:\n",
    "    print(f\"{MS2} is already defined on {MS0}\")\n",
    "    ms_definition = ms_definitions[0]\n",
    "    ms_id = ms_definition['id']"
   ]
  },
  {
   "cell_type": "markdown",
   "metadata": {},
   "source": [
    "## Configure the Bootstrap Server to use the new Management Server definition for this particular device"
   ]
  },
  {
   "cell_type": "code",
   "execution_count": null,
   "metadata": {},
   "outputs": [],
   "source": [
    "use_ms(GATEWAY0, SESSION0, device['mac_address'], ms_id)"
   ]
  },
  {
   "cell_type": "markdown",
   "metadata": {},
   "source": [
    "## Trigger the device to bootstrap again"
   ]
  },
  {
   "cell_type": "code",
   "execution_count": null,
   "metadata": {},
   "outputs": [],
   "source": [
    "trigger_bootstrap(GATEWAY1, SESSION1, device['mac_address'])"
   ]
  },
  {
   "cell_type": "code",
   "execution_count": null,
   "metadata": {},
   "outputs": [],
   "source": []
  }
 ],
 "metadata": {
  "kernelspec": {
   "display_name": "Python 3",
   "language": "python",
   "name": "python3"
  },
  "language_info": {
   "codemirror_mode": {
    "name": "ipython",
    "version": 3
   },
   "file_extension": ".py",
   "mimetype": "text/x-python",
   "name": "python",
   "nbconvert_exporter": "python",
   "pygments_lexer": "ipython3",
   "version": "3.7.0"
  }
 },
 "nbformat": 4,
 "nbformat_minor": 4
}
