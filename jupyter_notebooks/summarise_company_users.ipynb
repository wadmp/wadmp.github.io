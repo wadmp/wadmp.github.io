{
 "cells": [
  {
   "cell_type": "markdown",
   "metadata": {},
   "source": [
    "[View source on GitHub]: https://github.com/wadmp/wadmp.github.io/blob/master/jupyter_notebooks/summarise_company_users.ipynb\n",
    "[Notebook Viewer]: https://nbviewer.jupyter.org/github/wadmp/wadmp.github.io/blob/master/jupyter_notebooks/summarise_company_users.ipynb\n",
    "[Run in binder]: https://mybinder.org/v2/gh/wadmp/wadmp.github.io/master?filepath=jupyter_notebooks%2Fsummarise_company_users.ipynb\n",
    "[Run in Google Colab]: https://colab.research.google.com/github/wadmp/wadmp.github.io/blob/master/jupyter_notebooks/summarise_company_users.ipynb\n",
    "\n",
    "| [![GitHub logo](https://raw.githubusercontent.com/wadmp/wadmp.github.io/master/images/github_logo.png)][View source on GitHub] | [![Jupyter logo](https://raw.githubusercontent.com/wadmp/wadmp.github.io/master/images/jupyter_logo.png)][Notebook Viewer] | [![binder logo](https://raw.githubusercontent.com/wadmp/wadmp.github.io/master/images/binder_logo.png)][Run in binder] | [![Colab logo](https://raw.githubusercontent.com/wadmp/wadmp.github.io/master/images/colab_logo.png)][Run in Google Colab] |\n",
    "|:---------------------:|:---------------:|:-------------:|:-------------------:|\n",
    "| [View source on GitHub] | [Notebook Viewer] | [Run in binder] | [Run in Google Colab] |"
   ]
  },
  {
   "cell_type": "markdown",
   "metadata": {},
   "source": [
    "## Introduction\n",
    "This notebook provides an example of using the public REST API of WebAccess/DMP.\n",
    "\n",
    "It allows you to get a summary of all of the Users in a particular Company.\n",
    "\n",
    "Remember: User permissions are defined on a per-company basis!\n",
    "\n",
    "### Requirements\n",
    "* If you are running in Jupyter Lab, you will need to install this JupyterLab extension:\n",
    "  * @jupyter-widgets/jupyterlab-manager\n",
    "* You need to have an existing user account on the WA/DMP instance.\n",
    "* You must have the \"ViewUsers\" permission in the company you want to analyse. (If you are not sure, try [the login.ipynb notebook](https://github.com/wadmp/wadmp.github.io/blob/master/jupyter_notebooks/login.ipynb))\n",
    "\n",
    "### Usage\n",
    "In the \"Global Variables\" cell below, change BASE_URL to match the particular WA/DMP instance that you are using.\n",
    "\n",
    "Run the cells one at a time (Shift-Enter), or all at once.\n",
    "\n",
    "Some cells prompt for user input.\n"
   ]
  },
  {
   "cell_type": "markdown",
   "metadata": {},
   "source": [
    "## Setup\n",
    "This may take a minute ..."
   ]
  },
  {
   "cell_type": "code",
   "execution_count": null,
   "metadata": {},
   "outputs": [],
   "source": [
    "%%capture\n",
    "\n",
    "# Install packages in the current Jupyter kernel\n",
    "import sys\n",
    "!{sys.executable} -m pip install requests\n",
    "!{sys.executable} -m pip install ipywidgets\n",
    "!jupyter nbextension enable --py widgetsnbextension\n",
    "!{sys.executable} -m pip install pandas\n",
    "\n",
    "import requests\n",
    "import json\n",
    "import ipywidgets as widgets\n",
    "import pandas as pd\n",
    "from datetime import datetime"
   ]
  },
  {
   "cell_type": "markdown",
   "metadata": {},
   "source": [
    "## Global variables"
   ]
  },
  {
   "cell_type": "code",
   "execution_count": null,
   "metadata": {},
   "outputs": [],
   "source": [
    "BASE_URL = 'https://gateway.staging.wadmp.com'\n",
    "BASE_PATH = 'api'\n",
    "SESSION = requests.Session()  # Use one HTTPS session for all API calls\n",
    "\n",
    "PERMISSION_NAMES = [\n",
    "    \"ViewUsers\",\n",
    "    \"CreateCompany\",\n",
    "    \"ManageRoles\",\n",
    "    \"DeleteUser\",\n",
    "    \"CreateUser\",\n",
    "    \"DeleteCompany\",\n",
    "    \"EditCompany\",\n",
    "    \"ViewCompany\",\n",
    "    \"EditUser\",\n",
    "    \"ViewDevice\",\n",
    "    \"CreateDevice\",\n",
    "    \"ClaimDevice\",\n",
    "    \"ViewDMServer\",\n",
    "    \"AdmDMServer\",\n",
    "    \"ChangeDeviceDMServer\",\n",
    "    \"EditDevice\",\n",
    "    \"ManageAppStore\",\n",
    "    \"ManageAPIClients\",\n",
    "    \"ManageSyncEngine\",\n",
    "    \"DeleteDevice\"\n",
    "]"
   ]
  },
  {
   "cell_type": "markdown",
   "metadata": {},
   "source": [
    "## Functions to be used later"
   ]
  },
  {
   "cell_type": "code",
   "execution_count": null,
   "metadata": {},
   "outputs": [],
   "source": [
    "def login(username, password):\n",
    "    \"\"\"Login to the system, and return a token\n",
    "    \"\"\"\n",
    "    url = f\"{BASE_URL}/public/auth/connect/token\"\n",
    "    credentials = {'username': username, 'password': password, 'client_id': 'python', 'grant_type': 'password'}\n",
    "    print(f\"Sending POST request to {url} with:\\n\"\n",
    "          f\"    credentials={credentials}\\n\")\n",
    "    response = SESSION.post(url, data=credentials)\n",
    "\n",
    "    print(response.status_code)\n",
    "    try:\n",
    "        print(json.dumps(response.json(), indent=4, sort_keys=True))\n",
    "    except ValueError:\n",
    "        print(response.text)\n",
    "\n",
    "    if response.status_code == requests.codes['ok']:\n",
    "        return response.json()[\"access_token\"]\n",
    "    else:\n",
    "        print(\"Failed to login!\")\n",
    "        sys.exit(1)\n",
    "\n",
    "\n",
    "def get_companies(name=None):\n",
    "    \"\"\"Gets the list of companies in the system.\n",
    "    \"\"\"\n",
    "    url = f\"{BASE_URL}/{BASE_PATH}/companies\"\n",
    "    query = {'name': name}\n",
    "    print(f\"Sending GET request to {url} with:\\n\"\n",
    "          f\"    name={name}\\n\")\n",
    "    response = SESSION.get(url, params=query)\n",
    "\n",
    "    print(response.status_code)\n",
    "    try:\n",
    "        print(json.dumps(response.json(), indent=4, sort_keys=True))\n",
    "    except ValueError:\n",
    "        print(response.text)\n",
    "\n",
    "    if response.status_code == requests.codes['ok']:\n",
    "        return response.json()['data']\n",
    "    else:\n",
    "        print(\"Failed to retrieve the list of companies!\")\n",
    "        return None\n",
    "\n",
    "    \n",
    "def get_users(email=None, companies=[]):\n",
    "    \"\"\"Gets the list of users in a company or companies.\n",
    "    \"\"\"\n",
    "    url = f\"{BASE_URL}/{BASE_PATH}/users\"\n",
    "    query = {'email': email, 'companies': companies}\n",
    "    print(f\"Sending GET request to {url} with:\\n\"\n",
    "          f\"    email={email}\\n\"\n",
    "          f\"    companies={companies}\\n\")\n",
    "    response = SESSION.get(url, params=query)\n",
    "\n",
    "    print(response.status_code)\n",
    "    try:\n",
    "        print(json.dumps(response.json(), indent=4, sort_keys=True))\n",
    "    except ValueError:\n",
    "        print(response.text)\n",
    "\n",
    "    if response.status_code == requests.codes['ok']:\n",
    "        return response.json()['data']\n",
    "    else:\n",
    "        print(\"Failed to retrieve the list of users!\")\n",
    "        return None"
   ]
  },
  {
   "cell_type": "markdown",
   "metadata": {},
   "source": [
    "## Login to server"
   ]
  },
  {
   "cell_type": "code",
   "execution_count": null,
   "metadata": {},
   "outputs": [],
   "source": [
    "USERNAME = input(\"Enter YOUR WebAccess/DMP username:\")\n",
    "PASSWORD = input(\"Enter password:\")\n",
    "user_token = login(USERNAME, PASSWORD)\n",
    "SESSION.headers.update({'Authorization': f'Bearer {user_token}'})"
   ]
  },
  {
   "cell_type": "markdown",
   "metadata": {},
   "source": [
    "## Get list of Companies"
   ]
  },
  {
   "cell_type": "code",
   "execution_count": null,
   "metadata": {},
   "outputs": [],
   "source": [
    "all_companies = get_companies()"
   ]
  },
  {
   "cell_type": "markdown",
   "metadata": {},
   "source": [
    "### Summarise as a table"
   ]
  },
  {
   "cell_type": "code",
   "execution_count": null,
   "metadata": {},
   "outputs": [],
   "source": [
    "# A nested list comprehension creates a 2D array\n",
    "data = [[company['name'], company['id']] for company in all_companies]\n",
    "# Convert the 2D array into a Pandas dataframe, because it renders nicely\n",
    "pd.DataFrame(data, columns=[\"Company Name\", \"Company ID\"])"
   ]
  },
  {
   "cell_type": "markdown",
   "metadata": {},
   "source": [
    "## User input"
   ]
  },
  {
   "cell_type": "code",
   "execution_count": null,
   "metadata": {},
   "outputs": [],
   "source": [
    "COMPANY_NAME = input(\"Enter the name of the company you want to analyse:\")"
   ]
  },
  {
   "cell_type": "markdown",
   "metadata": {},
   "source": [
    "## Get Company ID"
   ]
  },
  {
   "cell_type": "code",
   "execution_count": null,
   "metadata": {},
   "outputs": [],
   "source": [
    "matching_companies = get_companies(COMPANY_NAME)\n",
    "if len(matching_companies) == 0:\n",
    "    print(\"Company name not found!\")\n",
    "    sys.exit(1)\n",
    "elif len(matching_companies) == 1:\n",
    "    company_id = matching_companies[0]['id']\n",
    "    print(f\"{COMPANY_NAME} has company ID {company_id}\")\n",
    "else:\n",
    "    print(\"More than one company matches that name! Just in case, we'll stop here.\")\n",
    "    sys.exit(1)"
   ]
  },
  {
   "cell_type": "markdown",
   "metadata": {},
   "source": [
    "## Get list of Users in Company"
   ]
  },
  {
   "cell_type": "code",
   "execution_count": null,
   "metadata": {},
   "outputs": [],
   "source": [
    "users = get_users(None, [company_id])"
   ]
  },
  {
   "cell_type": "markdown",
   "metadata": {},
   "source": [
    "### Summarise as a table"
   ]
  },
  {
   "cell_type": "code",
   "execution_count": null,
   "metadata": {},
   "outputs": [],
   "source": [
    "data = [[f\"{user['first_name']} {user['last_name']}\", user['email'], user['id']] for user in users]\n",
    "table = pd.DataFrame(data, columns=[\"Name\", \"Email\", \"User ID\"])\n",
    "\n",
    "admin_column = []\n",
    "permission_columns = [[] for permission in PERMISSION_NAMES]\n",
    "    \n",
    "for user in users:\n",
    "    for company in user['companies']:\n",
    "        if company['company']['name'] == COMPANY_NAME:\n",
    "            for i, permission in enumerate(PERMISSION_NAMES):\n",
    "                if permission in company['permissions']:\n",
    "                    permission_columns[i].append(True)\n",
    "                else:\n",
    "                    permission_columns[i].append(False)\n",
    "            admin_column.append(company['is_company_admin'])\n",
    "            break\n",
    "\n",
    "# Add new column\n",
    "table['Company Admin?'] = admin_column\n",
    "\n",
    "# Add new columns\n",
    "for i, permission in enumerate(PERMISSION_NAMES):\n",
    "    table[permission] = permission_columns[i]\n",
    "\n",
    "def colour_map(x):\n",
    "    \"\"\"Allows us to apply some styling to the table\n",
    "    \"\"\"\n",
    "    if x is True:\n",
    "        colour = \"#AAEEAA\"  # Light green\n",
    "    elif x is False:\n",
    "        colour = \"#EEAAAA\"  # Light red\n",
    "    elif x == USERNAME:\n",
    "        colour = \"Yellow\"\n",
    "    else:\n",
    "        colour = None\n",
    "    return f\"background-color: {colour}\"\n",
    "    \n",
    "\n",
    "table.transpose().style.applymap(colour_map)"
   ]
  },
  {
   "cell_type": "markdown",
   "metadata": {},
   "source": [
    "## Save to CSV file\n",
    "If you are running this notebook on your local machine, the file will automatically be saved to the same directory where this notebook is located.\n",
    "\n",
    "If you are running in a hosted environment like Binder or Google Colab, the file will be saved to the filesystem of the virtual machine!\n",
    "  * In the case of Binder, there is no (easy) way to download the file.\n",
    "  * In the case of Google Colab, there is a \"Files\" icon in the left-hand sidebar. Click here to find your file and dowload it."
   ]
  },
  {
   "cell_type": "code",
   "execution_count": null,
   "metadata": {
    "scrolled": true
   },
   "outputs": [],
   "source": [
    "table.transpose().to_csv(\"output.csv\")"
   ]
  }
 ],
 "metadata": {
  "kernelspec": {
   "display_name": "Python 3",
   "language": "python",
   "name": "python3"
  },
  "language_info": {
   "codemirror_mode": {
    "name": "ipython",
    "version": 3
   },
   "file_extension": ".py",
   "mimetype": "text/x-python",
   "name": "python",
   "nbconvert_exporter": "python",
   "pygments_lexer": "ipython3",
   "version": "3.7.0"
  }
 },
 "nbformat": 4,
 "nbformat_minor": 4
}
