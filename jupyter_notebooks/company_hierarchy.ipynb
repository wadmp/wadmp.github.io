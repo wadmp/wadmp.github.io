{
 "cells": [
  {
   "cell_type": "markdown",
   "metadata": {},
   "source": [
    "[View source on GitHub]: https://github.com/wadmp/wadmp.github.io/blob/master/jupyter_notebooks/company_hierarchy.ipynb\n",
    "[Notebook Viewer]: https://nbviewer.jupyter.org/github/wadmp/wadmp.github.io/blob/master/jupyter_notebooks/company_hierarchy.ipynb\n",
    "[Run in binder]: https://mybinder.org/v2/gh/wadmp/wadmp.github.io/master?filepath=jupyter_notebooks%2Fcompany_hierarchy.ipynb\n",
    "\n",
    "| [![GitHub logo](https://raw.githubusercontent.com/wadmp/wadmp.github.io/master/images/github_logo.png)][View source on GitHub] | [![Jupyter logo](https://raw.githubusercontent.com/wadmp/wadmp.github.io/master/images/jupyter_logo.png)][Notebook Viewer] | [![binder logo](https://raw.githubusercontent.com/wadmp/wadmp.github.io/master/images/binder_logo.png)][Run in binder] |\n",
    "|:---------------------:|:---------------:|:-------------:|\n",
    "| [View source on GitHub] | [Notebook Viewer] | [Run in binder] |"
   ]
  },
  {
   "cell_type": "markdown",
   "metadata": {},
   "source": [
    "## Introduction\n",
    "This notebook provides an example of using the public REST API of WebAccess/DMP.\n",
    "\n",
    "It allows the user to visualise the company hierarchy on the system, in three different ways:\n",
    "* As a [Pandas](https://pandas.pydata.org/) table;\n",
    "* As a [NetworkX](https://networkx.github.io/) graph object;\n",
    "* As an interactive [bqplot](https://bqplot.readthedocs.io/en/latest/) graph.\n",
    "\n",
    "### Requirements\n",
    "* If you are running in Jupyter Notebook, you don't need to make any code changes.\n",
    "* If you are running in Jupyter Lab, you will also need to install these JupyterLab extensions:\n",
    "  * @jupyter-widgets/jupyterlab-manager\n",
    "  * bqplot\n",
    "* You need to have an existing **SysAdmin** account on the WA/DMP instance.\n",
    "\n",
    "### Usage\n",
    "In the \"Global Variables\" cell below, change BASE_URL to match the particular WA/DMP instance that you are using.\n",
    "\n",
    "Then run the cells one at a time (Shift-Enter), or all at once.\n",
    "\n",
    "Some cells prompt for user input."
   ]
  },
  {
   "cell_type": "markdown",
   "metadata": {},
   "source": [
    "## Setup\n",
    "This may take a minute ..."
   ]
  },
  {
   "cell_type": "code",
   "execution_count": null,
   "metadata": {},
   "outputs": [],
   "source": [
    "%%capture\n",
    "\n",
    "# Install packages in the current Jupyter kernel\n",
    "import sys\n",
    "!{sys.executable} -m pip install requests\n",
    "!{sys.executable} -m pip install pandas\n",
    "!{sys.executable} -m pip install networkx\n",
    "!{sys.executable} -m pip install ipywidgets\n",
    "\n",
    "# We have had issues with bqplot due to version incompatibilities.\n",
    "# To be safe, we pin both the backend (pip) version and the frontend (npm) version.\n",
    "!{sys.executable} -m pip install bqplot==0.12.6\n",
    "# bqplot includes ipywidgets, numpy, pandas, so we don't need to install those.\n",
    "\n",
    "# The following line is commented out because it will cause an exception in Jupyter Notebook.\n",
    "# HOWEVER, it may be required in Jupyter Lab if you can't install the right version through the Extension Manager.\n",
    "#!jupyter labextension install bqplot@0.5.6\n",
    "\n",
    "import requests\n",
    "import json\n",
    "import pandas as pd\n",
    "import networkx as nx\n",
    "import ipywidgets\n",
    "import bqplot"
   ]
  },
  {
   "cell_type": "markdown",
   "metadata": {},
   "source": [
    "## Global variables"
   ]
  },
  {
   "cell_type": "code",
   "execution_count": null,
   "metadata": {},
   "outputs": [],
   "source": [
    "BASE_URL = 'https://gateway.wadmp.com'\n",
    "BASE_PATH = 'api'\n",
    "SESSION = requests.Session()  # Use one HTTPS session for all API calls"
   ]
  },
  {
   "cell_type": "markdown",
   "metadata": {},
   "source": [
    "## Functions to be used later"
   ]
  },
  {
   "cell_type": "code",
   "execution_count": null,
   "metadata": {},
   "outputs": [],
   "source": [
    "def login(username, password):\n",
    "    \"\"\"Login to the system, and return a token\n",
    "    \"\"\"\n",
    "    url = f\"{BASE_URL}/public/auth/connect/token\"\n",
    "    credentials = {'username': username, 'password': password, 'client_id': 'python', 'grant_type': 'password'}\n",
    "    print(f\"Sending POST request to {url} with:\\n\"\n",
    "          f\"    credentials={credentials}\\n\")\n",
    "    response = SESSION.post(url, data=credentials)\n",
    "\n",
    "    print(response.status_code)\n",
    "    try:\n",
    "        print(json.dumps(response.json(), indent=4, sort_keys=True))\n",
    "    except ValueError:\n",
    "        print(response.text)\n",
    "\n",
    "    if response.status_code == requests.codes['ok']:\n",
    "        return response.json()[\"access_token\"]\n",
    "    else:\n",
    "        print(\"Failed to login!\")\n",
    "        sys.exit(1)\n",
    "\n",
    "\n",
    "def get_companies(name=None):\n",
    "    \"\"\"Gets the list of companies in the system.\n",
    "    \"\"\"\n",
    "    url = f\"{BASE_URL}/{BASE_PATH}/companies\"\n",
    "    query = {'name': name}\n",
    "    print(f\"Sending GET request to {url} with:\\n\"\n",
    "          f\"    name={name}\\n\")\n",
    "    response = SESSION.get(url, params=query)\n",
    "\n",
    "    print(response.status_code)\n",
    "    try:\n",
    "        print(json.dumps(response.json(), indent=4, sort_keys=True))\n",
    "    except ValueError:\n",
    "        print(response.text)\n",
    "\n",
    "    if response.status_code == requests.codes['ok']:\n",
    "        return response.json()['data']\n",
    "    else:\n",
    "        print(\"Failed to retrieve the list of companies!\")\n",
    "        return None\n",
    "\n",
    "    \n",
    "def get_users(email=None, companies=[]):\n",
    "    \"\"\"Gets the list of users in a company or companies.\n",
    "    \"\"\"\n",
    "    url = f\"{BASE_URL}/{BASE_PATH}/users\"\n",
    "    query = {'email': email, 'companies': companies}\n",
    "    print(f\"Sending GET request to {url} with:\\n\"\n",
    "          f\"    email={email}\\n\"\n",
    "          f\"    companies={companies}\\n\")\n",
    "    response = SESSION.get(url, params=query)\n",
    "\n",
    "    print(response.status_code)\n",
    "    try:\n",
    "        print(json.dumps(response.json(), indent=4, sort_keys=True))\n",
    "    except ValueError:\n",
    "        print(response.text)\n",
    "\n",
    "    if response.status_code == requests.codes['ok']:\n",
    "        return response.json()['data']\n",
    "    else:\n",
    "        print(\"Failed to retrieve the list of users!\")\n",
    "        return None"
   ]
  },
  {
   "cell_type": "markdown",
   "metadata": {},
   "source": [
    "## Login to server"
   ]
  },
  {
   "cell_type": "code",
   "execution_count": null,
   "metadata": {},
   "outputs": [],
   "source": [
    "USERNAME = input(\"Enter WebAccess/DMP username:\")\n",
    "PASSWORD = input(\"Enter password:\")\n",
    "user_token = login(USERNAME, PASSWORD)\n",
    "SESSION.headers.update({'Authorization': f'Bearer {user_token}'})"
   ]
  },
  {
   "cell_type": "markdown",
   "metadata": {},
   "source": [
    "## Get Companies"
   ]
  },
  {
   "cell_type": "code",
   "execution_count": null,
   "metadata": {},
   "outputs": [],
   "source": [
    "companies = get_companies()"
   ]
  },
  {
   "cell_type": "markdown",
   "metadata": {},
   "source": [
    "## Create a table"
   ]
  },
  {
   "cell_type": "code",
   "execution_count": null,
   "metadata": {},
   "outputs": [],
   "source": [
    "# A nested list comprehension creates a 2D array.\n",
    "# We can't include \"Parent Name\" information yet, because a company may not have a parent\n",
    "data = [[\n",
    "    company['name'],\n",
    "    company['id'],\n",
    "    company['contact_name']\n",
    "    ] for company in companies]\n",
    "\n",
    "# Convert the 2D array into a Pandas dataframe, because it renders nicely\n",
    "table = pd.DataFrame(data, columns=[\"name\", \"id\", \"contact_name\"])\n",
    "\n",
    "parent_column = []\n",
    "users_column = []\n",
    "\n",
    "for company in companies:\n",
    "    num_users = len(get_users(companies=[company['id']]))\n",
    "    users_column.append(num_users)\n",
    "    if company['parent']:\n",
    "        parent_column.append(company['parent']['name'])\n",
    "    else:\n",
    "        parent_column.append('')"
   ]
  },
  {
   "cell_type": "code",
   "execution_count": null,
   "metadata": {},
   "outputs": [],
   "source": [
    "# Add new columns\n",
    "table['Parent Name'] = parent_column\n",
    "table['Number of Users'] = users_column\n",
    "table"
   ]
  },
  {
   "cell_type": "markdown",
   "metadata": {},
   "source": [
    "## Save to CSV file\n",
    "If you are running this notebook on your local machine, the file will automatically be saved to the same directory where this notebook is located.\n",
    "\n",
    "If you are running in a hosted environment like Binder or Google Colab, the file will be saved to the filesystem of the virtual machine!\n",
    "  * In the case of Binder, there is no (easy) way to download the file.\n",
    "  * In the case of Google Colab, there is a \"Files\" icon in the left-hand sidebar. Click here to find your file and dowload it."
   ]
  },
  {
   "cell_type": "code",
   "execution_count": null,
   "metadata": {},
   "outputs": [],
   "source": [
    "table.to_csv(\"output.csv\")"
   ]
  },
  {
   "cell_type": "markdown",
   "metadata": {},
   "source": [
    "## Create a NetworkX graph\n",
    "References:\n",
    "* https://networkx.github.io/documentation/networkx-2.3/index.html\n",
    "* https://networkx.github.io/documentation/networkx-2.3/reference/algorithms/tree.html"
   ]
  },
  {
   "cell_type": "code",
   "execution_count": null,
   "metadata": {},
   "outputs": [],
   "source": [
    "DG = nx.DiGraph(server=BASE_URL)\n",
    "\n",
    "# Add each company as a node\n",
    "for i, company in enumerate(companies):\n",
    "    DG.add_node(\n",
    "        company['name'],\n",
    "        # Add extra attributes\n",
    "        id = company['id'],\n",
    "        contact_name = company['contact_name'],\n",
    "        users = table.at[i, 'Number of Users']\n",
    "    )\n",
    "    \n",
    "# Add parent-child relationships as edges\n",
    "for company in companies:\n",
    "    if company['parent']:\n",
    "        DG.add_edge(company['parent']['name'], company['name'])\n",
    "\n",
    "print(f\"Tree: {nx.algorithms.tree.recognition.is_tree(DG)}\")\n",
    "print(f\"Forest: {nx.algorithms.tree.recognition.is_forest(DG)}\")\n",
    "print(f\"Arborescence: {nx.algorithms.tree.recognition.is_arborescence(DG)}\")\n",
    "print(f\"Branching: {nx.algorithms.tree.recognition.is_branching(DG)}\")"
   ]
  },
  {
   "cell_type": "markdown",
   "metadata": {},
   "source": [
    "## Create a graph in bqplot"
   ]
  },
  {
   "cell_type": "code",
   "execution_count": null,
   "metadata": {},
   "outputs": [],
   "source": [
    "fig_layout = ipywidgets.Layout(width='960px', height='500px')\n",
    "\n",
    "nodes = list(DG.nodes)\n",
    "edges = [{'source': s, 'target': t} for s, t in list(DG.edges)]\n",
    "#print(nodes)\n",
    "#print(edges)\n",
    "\n",
    "# Add some extra attributes to the nodes. We can use these in tooltips.\n",
    "nodes2 = []\n",
    "for i, node in enumerate(nodes):\n",
    "    num_users = table.at[i, 'Number of Users']\n",
    "    # We want the circle's AREA to be proportional to the Number of Users\n",
    "    radius = (num_users*50)**0.5\n",
    "    nodes2.append(\n",
    "        {'label': node,\n",
    "         'name': node,\n",
    "         'id': table.at[i, 'id'],\n",
    "         'users': num_users,\n",
    "         'children': len(list(DG.successors(node))),\n",
    "         'shape': 'circle',\n",
    "         'shape_attrs': {'r': radius}\n",
    "        }\n",
    "    )\n",
    "#print(nodes2)\n",
    "\n",
    "# Unfortunately, the bqplot graph can only use integers to identify the nodes in link_data, not strings.\n",
    "# So we look up the company names in the table and take the corresponding row index:\n",
    "links = []\n",
    "for edge in edge_data:\n",
    "    source_id = table.query(f\"name == '{edge['source']}'\").index.tolist()[0]\n",
    "    target_id = table.query(f\"name == '{edge['target']}'\").index.tolist()[0]\n",
    "    links.append({'source': source_id, 'target': target_id})\n",
    "#print(links)"
   ]
  },
  {
   "cell_type": "code",
   "execution_count": null,
   "metadata": {},
   "outputs": [],
   "source": [
    "graph = bqplot.Graph(node_data=nodes2, link_data=links, link_type='line', link_distance=100, charge=-100)\n",
    "\n",
    "tooltip = bqplot.Tooltip(fields=['name', 'id', 'users', 'children'], formats=['', '0d', '0d', '0d'])\n",
    "graph.tooltip = tooltip\n",
    "\n",
    "figure = bqplot.Figure(marks=[graph], layout=fig_layout)\n",
    "figure"
   ]
  },
  {
   "cell_type": "markdown",
   "metadata": {},
   "source": [
    "Depending on the size of the graph, you may need to adjust the `link_distance` and `charge` attributes in the cell immediately above.\n",
    "\n",
    "If the company circles are not a good size, adjust the `radius` calculation in the cell two above."
   ]
  },
  {
   "cell_type": "markdown",
   "metadata": {},
   "source": [
    "## Save to PNG file\n",
    "*As noted above for output.csv:*\n",
    "\n",
    "If you are running this notebook on your local machine, the file will automatically be saved to the same directory where this notebook is located.\n",
    "\n",
    "If you are running in a hosted environment like Binder or Google Colab, the file will be saved to the filesystem of the virtual machine!\n",
    "* In the case of Binder, there is no (easy) way to download the file.\n",
    "* In the case of Google Colab, there is a \"Files\" icon in the left-hand sidebar. Click here to find your file and dowload it."
   ]
  },
  {
   "cell_type": "code",
   "execution_count": null,
   "metadata": {},
   "outputs": [],
   "source": [
    "figure.save_png('output.png')"
   ]
  },
  {
   "cell_type": "code",
   "execution_count": null,
   "metadata": {},
   "outputs": [],
   "source": []
  }
 ],
 "metadata": {
  "kernelspec": {
   "display_name": "Python 3",
   "language": "python",
   "name": "python3"
  },
  "language_info": {
   "codemirror_mode": {
    "name": "ipython",
    "version": 3
   },
   "file_extension": ".py",
   "mimetype": "text/x-python",
   "name": "python",
   "nbconvert_exporter": "python",
   "pygments_lexer": "ipython3",
   "version": "3.7.0"
  }
 },
 "nbformat": 4,
 "nbformat_minor": 4
}
