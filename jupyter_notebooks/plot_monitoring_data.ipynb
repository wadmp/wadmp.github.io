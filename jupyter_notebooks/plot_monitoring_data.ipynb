{
 "cells": [
  {
   "cell_type": "markdown",
   "metadata": {},
   "source": [
    "[View source on GitHub]: https://github.com/wadmp/wadmp.github.io/blob/master/jupyter_notebooks/plot_monitoring_data.ipynb\n",
    "[Notebook Viewer]: https://nbviewer.jupyter.org/github/wadmp/wadmp.github.io/blob/master/jupyter_notebooks/plot_monitoring_data.ipynb\n",
    "[Run in binder]: https://mybinder.org/v2/gh/wadmp/wadmp.github.io/master?filepath=jupyter_notebooks%2Fplot_monitoring_data.ipynb\n",
    "\n",
    "| [![GitHub logo](https://raw.githubusercontent.com/wadmp/wadmp.github.io/master/images/github_logo.png)][View source on GitHub] | [![Jupyter logo](https://raw.githubusercontent.com/wadmp/wadmp.github.io/master/images/jupyter_logo.png)][Notebook Viewer] | [![binder logo](https://raw.githubusercontent.com/wadmp/wadmp.github.io/master/images/binder_logo.png)][Run in binder] |\n",
    "|:---------------------:|:---------------:|:-------------:|\n",
    "| [View source on GitHub] | [Notebook Viewer] | [Run in binder] |"
   ]
  },
  {
   "cell_type": "markdown",
   "metadata": {},
   "source": [
    "## Introduction\n",
    "This notebook provides an example of using the public REST API of WebAccess/DMP.\n",
    "\n",
    "It shows how to query the monitoriring data of one device, which is stored in a time-series database called [InfluxDB](https://www.influxdata.com/products/influxdb-overview/).\n",
    "\n",
    "It uses the [bqplot](https://github.com/bloomberg/bqplot) plotting library.\n",
    "\n",
    "### Requirements\n",
    "* If you are running in Jupyter Notebook, you don't need to make any code changes.\n",
    "* If you are running in Jupyter Lab, you will also need to install these JupyterLab extensions:\n",
    "  * @jupyter-widgets/jupyterlab-manager\n",
    "  * bqplot\n",
    "* You need to have an existing user account on the WA/DMP instance.\n",
    "\n",
    "### Usage\n",
    "In the \"Global Variables\" cell below, change BASE_URL to match the particular WA/DMP instance that you are using.\n",
    "\n",
    "Then run the cells, either one at a time, or all at once.\n",
    "\n",
    "When prompted, enter the required User Input (USERNAME, PASSWORD, device_name)."
   ]
  },
  {
   "cell_type": "markdown",
   "metadata": {},
   "source": [
    "## Setup\n",
    "This may take a minute ..."
   ]
  },
  {
   "cell_type": "code",
   "execution_count": null,
   "metadata": {},
   "outputs": [],
   "source": [
    "%%capture\n",
    "\n",
    "# Install packages in the current Jupyter kernel\n",
    "import sys\n",
    "!{sys.executable} -m pip install requests\n",
    "\n",
    "# We have had issues with bqplot due to version incompatibilities.\n",
    "# To be safe, we pin both the backend (pip) version and the frontend (npm) version.\n",
    "!{sys.executable} -m pip install bqplot==0.12.6\n",
    "# bqplot includes ipywidgets, numpy, pandas, so we don't need to install those.\n",
    "\n",
    "# The following line is commented out because it will cause an exception in Jupyter Notebook.\n",
    "# HOWEVER, it may be required in Jupyter Lab if you can't install the right version through the Extension Manager.\n",
    "#!jupyter labextension install bqplot@0.5.6\n",
    "\n",
    "import requests\n",
    "import numpy as np\n",
    "import pandas as pd\n",
    "import bqplot\n",
    "import json"
   ]
  },
  {
   "cell_type": "markdown",
   "metadata": {},
   "source": [
    "## Global variables"
   ]
  },
  {
   "cell_type": "code",
   "execution_count": null,
   "metadata": {},
   "outputs": [],
   "source": [
    "BASE_URL = 'https://gateway.wadmp.com'\n",
    "BASE_PATH = 'api'\n",
    "SESSION = requests.Session()  # Use one HTTPS session for all API calls"
   ]
  },
  {
   "cell_type": "markdown",
   "metadata": {},
   "source": [
    "## User input"
   ]
  },
  {
   "cell_type": "code",
   "execution_count": null,
   "metadata": {},
   "outputs": [],
   "source": [
    "USERNAME = input(\"Enter username:\")\n",
    "PASSWORD = input(\"Enter password:\")\n",
    "device_name = input(\"Enter device alias or MAC address:\")"
   ]
  },
  {
   "cell_type": "markdown",
   "metadata": {},
   "source": [
    "## Login"
   ]
  },
  {
   "cell_type": "code",
   "execution_count": null,
   "metadata": {},
   "outputs": [],
   "source": [
    "url = f\"{BASE_URL}/public/auth/connect/token\"\n",
    "credentials = {'username': USERNAME, 'password': PASSWORD, 'client_id': 'python', 'grant_type': 'password'}\n",
    "print(f\"\\nSending POST request to {url} with:\\n\"\n",
    "        f\"    credentials={credentials}\")\n",
    "response = SESSION.post(url, data=credentials)\n",
    "\n",
    "print(response.status_code)\n",
    "try:\n",
    "    print(json.dumps(response.json(), indent=4, sort_keys=True))\n",
    "except ValueError:\n",
    "    print(response.text)\n",
    "\n",
    "if response.status_code == requests.codes['ok']:\n",
    "    user_token = response.json()[\"access_token\"]\n",
    "else:\n",
    "    print(\"Failed to login!\")\n",
    "    sys.exit(1)"
   ]
  },
  {
   "cell_type": "markdown",
   "metadata": {},
   "source": [
    "## Use the token in all subsequent API calls"
   ]
  },
  {
   "cell_type": "code",
   "execution_count": null,
   "metadata": {},
   "outputs": [],
   "source": [
    "SESSION.headers.update({'Authorization': f'Bearer {user_token}'})"
   ]
  },
  {
   "cell_type": "markdown",
   "metadata": {},
   "source": [
    "## Get the device details"
   ]
  },
  {
   "cell_type": "code",
   "execution_count": null,
   "metadata": {},
   "outputs": [],
   "source": [
    "url = f\"{BASE_URL}/{BASE_PATH}/management/devices\"\n",
    "query = {'page': 1, 'pageSize': '10', 'name': device_name}\n",
    "print(f\"\\nSending GET request to {url} with:\\n\"\n",
    "        f\"    page=1\\n\"\n",
    "        f\"    pageSize=10\\n\"\n",
    "        f\"    name={device_name}\\n\")\n",
    "response = SESSION.get(url, params=query)\n",
    "\n",
    "print(response.status_code)\n",
    "try:\n",
    "    print(json.dumps(response.json(), indent=4, sort_keys=True))\n",
    "except ValueError:\n",
    "    print(response.text)\n",
    "\n",
    "if response.status_code == requests.codes['ok']:\n",
    "    mac = response.json()['data'][0]['mac_address']\n",
    "    company = response.json()['data'][0]['company']['name']\n",
    "else:\n",
    "    print(\"GET devices query failed!\")\n",
    "    sys.exit(1)"
   ]
  },
  {
   "cell_type": "markdown",
   "metadata": {},
   "source": [
    "## Get the latest data from InfluxDB\n",
    "Note that the company name must be included in the WHERE clause!\n",
    "(If you do not specify a company, the query will default to use the InfluxDB database for your primary company).\n",
    "\n",
    "And because of the way Grafana [uses variables in queries](https://grafana.com/docs/grafana/latest/features/datasources/influxdb/#using-variables-in-queries), you have to wrap the company name as follows:\n",
    "`\"companyName\" =~ /^My Company Inc.$/`\n",
    "\n",
    "Following the Influx recommendations [here](https://docs.influxdata.com/influxdb/v1.7/troubleshooting/frequently-asked-questions/#when-should-i-single-quote-and-when-should-i-double-quote-in-queries), we single-quote string values and double-quote identifiers."
   ]
  },
  {
   "cell_type": "code",
   "execution_count": null,
   "metadata": {},
   "outputs": [],
   "source": [
    "url = f\"{BASE_URL}/{BASE_PATH}/monitoring/devices/query\"\n",
    "influx_query = f'SELECT \"statusTemperature\" FROM \"SNMP\" WHERE (\"macAddress\" = \\'{mac}\\' AND \"companyName\" =~ /^{company}$/ AND time >= now() - 1d )'\n",
    "query = {'Q': influx_query, 'Epoch': 'ms'}\n",
    "print(f\"\\nSending GET request to {url} with:\\n\"\n",
    "        f\"    Q={influx_query}\\n\"\n",
    "        f\"    Epoch=ms\\n\")\n",
    "response = SESSION.get(url, params=query)\n",
    "\n",
    "print(response.status_code)\n",
    "try:\n",
    "    print(json.dumps(response.json(), indent=4, sort_keys=True))\n",
    "except ValueError:\n",
    "    print(response.text)\n",
    "\n",
    "if response.status_code == requests.codes['ok']:\n",
    "    # We return a numpy array, because that makes slicing easy\n",
    "    array = np.array(response.json()['results'][0]['series'][0]['values'])\n",
    "else:\n",
    "    print(\"InfluxDB query failed!\")\n",
    "    sys.exit(1)"
   ]
  },
  {
   "cell_type": "markdown",
   "metadata": {},
   "source": [
    "## Convert the numpy array to a Pandas Series object"
   ]
  },
  {
   "cell_type": "code",
   "execution_count": null,
   "metadata": {},
   "outputs": [],
   "source": [
    "x = pd.to_datetime(array[:,0], unit='ms')\n",
    "y = array[:,1]\n",
    "series = pd.Series(data=y, index=x)\n",
    "series"
   ]
  },
  {
   "cell_type": "markdown",
   "metadata": {},
   "source": [
    "## Plot"
   ]
  },
  {
   "cell_type": "code",
   "execution_count": null,
   "metadata": {},
   "outputs": [],
   "source": [
    "# bqplot provides a high-level API called pyplot, which is intended to be similar to matplotlib.\n",
    "# We use the lower-level \"object API\", as it provides more flexibility.\n",
    "\n",
    "x_sc = bqplot.DateScale()\n",
    "y_sc = bqplot.LinearScale()\n",
    "\n",
    "ax_x = bqplot.Axis(label='Time', scale=x_sc, grid_lines='solid')\n",
    "ax_y = bqplot.Axis(label='Temp', scale=y_sc, orientation='vertical', grid_lines='solid')\n",
    "\n",
    "line = bqplot.Lines(x=x, y=y, scales={'x': x_sc, 'y': y_sc}, marker='circle')\n",
    "\n",
    "fig = bqplot.Figure(axes=[ax_x, ax_y], marks=[line], title='Temperature')\n",
    "fig"
   ]
  },
  {
   "cell_type": "markdown",
   "metadata": {},
   "source": [
    "Note that the X-axis automatically uses the browser's local timezone.\n",
    "All monitoring data in WebAccess/DMP is stored in UTC, so if your local time is NOT UTC you will notice an offset."
   ]
  }
 ],
 "metadata": {
  "kernelspec": {
   "display_name": "Python 3",
   "language": "python",
   "name": "python3"
  },
  "language_info": {
   "codemirror_mode": {
    "name": "ipython",
    "version": 3
   },
   "file_extension": ".py",
   "mimetype": "text/x-python",
   "name": "python",
   "nbconvert_exporter": "python",
   "pygments_lexer": "ipython3",
   "version": "3.7.0"
  }
 },
 "nbformat": 4,
 "nbformat_minor": 4
}
