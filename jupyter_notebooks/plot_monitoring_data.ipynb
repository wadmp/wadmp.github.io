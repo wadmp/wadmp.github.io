{
 "cells": [
  {
   "cell_type": "markdown",
   "metadata": {},
   "source": [
    "[View source on GitHub]: https://github.com/wadmp/wadmp.github.io/blob/master/jupyter_notebooks/plot_monitoring_data.ipynb\n",
    "[Notebook Viewer]: https://nbviewer.jupyter.org/github/wadmp/wadmp.github.io/blob/master/jupyter_notebooks/plot_monitoring_data.ipynb\n",
    "[Run in binder]: https://mybinder.org/v2/gh/wadmp/wadmp.github.io/master?filepath=jupyter_notebooks%2Fplot_monitoring_data.ipynb\n",
    "\n",
    "| [![GitHub logo](https://raw.githubusercontent.com/wadmp/wadmp.github.io/master/images/github_logo.png)][View source on GitHub] | [![Jupyter logo](https://raw.githubusercontent.com/wadmp/wadmp.github.io/master/images/jupyter_logo.png)][Notebook Viewer] | [![binder logo](https://raw.githubusercontent.com/wadmp/wadmp.github.io/master/images/binder_logo.png)][Run in binder] |\n",
    "|:---------------------:|:---------------:|:-------------:|\n",
    "| [View source on GitHub] | [Notebook Viewer] | [Run in binder] |"
   ]
  },
  {
   "cell_type": "markdown",
   "metadata": {},
   "source": [
    "## Introduction\n",
    "This notebook provides an example of using the public REST API of WebAccess/DMP.\n",
    "\n",
    "In particular, we will be using the `GET /monitoring/devices/query` endpoint, which you can also try out on https://api.wadmp.com/\n",
    "\n",
    "![endpoint](images/GET_monitoring_devices_query.png)\n",
    "\n",
    "Monitoring data is stored in a time-series database called [InfluxDB](https://www.influxdata.com/products/influxdb-overview/).\n",
    "\n",
    "We use the [bqplot](https://github.com/bloomberg/bqplot) plotting library,\n",
    "but feel free to adapt the notebook to use whatever tools you prefer.\n",
    "\n",
    "### Requirements\n",
    "* If you are running in Jupyter Notebook, you don't need to make any code changes.\n",
    "* If you are running in Jupyter Lab, you will also need to install these JupyterLab extensions:\n",
    "  * @jupyter-widgets/jupyterlab-manager\n",
    "  * bqplot\n",
    "* You need to have an existing user account on the WA/DMP instance.\n",
    "  * You must be a member of at least one company on the WA/DMP instance;\n",
    "  * At least one device that is claimed to said company must be configured to publish monitoring data.\n",
    "\n",
    "### Usage\n",
    "In the \"Global Variables\" cell below, change BASE_URL to match the particular WA/DMP instance that you are using.\n",
    "\n",
    "Then run the cells, either one at a time, or all at once.\n",
    "\n",
    "When prompted, enter the required User Input (USERNAME, PASSWORD, device_name)."
   ]
  },
  {
   "cell_type": "markdown",
   "metadata": {},
   "source": [
    "## Setup\n",
    "This may take a minute ..."
   ]
  },
  {
   "cell_type": "code",
   "execution_count": null,
   "metadata": {},
   "outputs": [],
   "source": [
    "%%capture\n",
    "\n",
    "# Install packages in the current Jupyter kernel\n",
    "import sys\n",
    "!{sys.executable} -m pip install requests\n",
    "!{sys.executable} -m pip install pyjwt\n",
    "\n",
    "# We have had issues with bqplot due to version incompatibilities.\n",
    "# To be safe, we pin both the backend (pip) version and the frontend (npm) version.\n",
    "!{sys.executable} -m pip install bqplot==0.12.12\n",
    "# bqplot includes ipywidgets, numpy, pandas, so we don't need to install those.\n",
    "\n",
    "# The following line is commented out because it will cause an exception in Jupyter Notebook.\n",
    "# HOWEVER, it may be required in Jupyter Lab if you can't install the right version through the Extension Manager.\n",
    "#!jupyter labextension install bqplot@0.5.12\n",
    "\n",
    "import requests\n",
    "import jwt\n",
    "import numpy as np\n",
    "import pandas as pd\n",
    "import bqplot\n",
    "import json\n",
    "import datetime"
   ]
  },
  {
   "cell_type": "markdown",
   "metadata": {},
   "source": [
    "## Global variables"
   ]
  },
  {
   "cell_type": "code",
   "execution_count": null,
   "metadata": {},
   "outputs": [],
   "source": [
    "BASE_URL = 'https://gateway.wadmp.com'\n",
    "BASE_PATH = 'api'\n",
    "SESSION = requests.Session()  # Use one HTTPS session for all API calls"
   ]
  },
  {
   "cell_type": "markdown",
   "metadata": {},
   "source": [
    "## Functions to be used later"
   ]
  },
  {
   "cell_type": "code",
   "execution_count": null,
   "metadata": {},
   "outputs": [],
   "source": [
    "def login(username, password):\n",
    "    \"\"\"Login to the system, and return a token\n",
    "    \"\"\"\n",
    "    url = f\"{BASE_URL}/public/auth/connect/token\"\n",
    "    credentials = {'username': username, 'password': password, 'client_id': 'python', 'grant_type': 'password'}\n",
    "    print(f\"Sending POST request to {url} with:\\n\"\n",
    "          f\"    credentials={credentials}\\n\")\n",
    "    response = SESSION.post(url, data=credentials)\n",
    "\n",
    "    print(response.status_code)\n",
    "    try:\n",
    "        print(json.dumps(response.json(), indent=4, sort_keys=True))\n",
    "    except ValueError:\n",
    "        print(response.text)\n",
    "\n",
    "    if response.status_code == requests.codes['ok']:\n",
    "        return response.json()[\"access_token\"]\n",
    "    else:\n",
    "        print(\"Failed to login!\")\n",
    "        sys.exit(1)\n",
    "\n",
    "\n",
    "def get_companies(name=None):\n",
    "    \"\"\"Gets the list of companies in the system.\n",
    "    \"\"\"\n",
    "    url = f\"{BASE_URL}/{BASE_PATH}/companies\"\n",
    "    query = {'name': name}\n",
    "    print(f\"Sending GET request to {url} with:\\n\"\n",
    "          f\"    name={name}\\n\")\n",
    "    response = SESSION.get(url, params=query)\n",
    "\n",
    "    print(response.status_code)\n",
    "    try:\n",
    "        print(json.dumps(response.json(), indent=4, sort_keys=True))\n",
    "    except ValueError:\n",
    "        print(response.text)\n",
    "\n",
    "    if response.status_code == requests.codes['ok']:\n",
    "        return response.json()['data']\n",
    "    else:\n",
    "        print(\"Failed to retrieve the list of companies!\")\n",
    "        return None\n",
    "\n",
    "\n",
    "def get_devices(page_size, companies=[]):\n",
    "    \"\"\"Retrieves the list of your devices.\n",
    "       Requests are paged, but this function automatically aggregates responses into one complete list.\n",
    "    \"\"\"\n",
    "    page_number = 1\n",
    "    total, devices = get_one_page_of_devices(page_number, page_size, companies)\n",
    "    \n",
    "    while len(devices) < total:\n",
    "        print(f\"{len(devices)} out of {total} ...\")\n",
    "        page_number += 1\n",
    "        total, page = get_one_page_of_devices(page_number, page_size, companies)\n",
    "        devices.extend(page)\n",
    "\n",
    "    return devices\n",
    "\n",
    "\n",
    "def get_one_page_of_devices(page_number, page_size, companies=[]):\n",
    "    \"\"\"Retrieves one page of the list of your devices.\n",
    "    \"\"\"\n",
    "    url = f\"{BASE_URL}/{BASE_PATH}/management/devices\"\n",
    "\n",
    "    # The only REQUIRED query parameters are page and pageSize\n",
    "    print(f\"Sending GET request to {url} with:\\n\"\n",
    "          f\"    page={page_number}\\n\"\n",
    "          f\"    pageSize={page_size}\")\n",
    "    query = {'page': page_number, 'pageSize': page_size, 'companies': companies}\n",
    "    response = SESSION.get(url, params=query)\n",
    "\n",
    "    print(response.status_code)\n",
    "    try:\n",
    "        print(json.dumps(response.json(), indent=4, sort_keys=True))\n",
    "    except ValueError:\n",
    "        print(response.text)\n",
    "    \n",
    "    total = response.json()['total_items']\n",
    "\n",
    "    if response.status_code == requests.codes['ok']:\n",
    "        return total, response.json()['data']\n",
    "    else:\n",
    "        print(f\"Failed to retrieve page {page_number}!\")\n",
    "        return None\n",
    "\n",
    "\n",
    "def get_monitoring_data(influx_query):\n",
    "    \"\"\"Queries for monitoring data from a specific device\n",
    "    \"\"\"\n",
    "    url = f\"{BASE_URL}/{BASE_PATH}/monitoring/devices/query\"\n",
    "    query = {'Q': influx_query, 'Epoch': 'ms'}\n",
    "    print(f\"\\nSending GET request to {url} with:\\n\"\n",
    "            f\"    Q={influx_query}\\n\"\n",
    "            f\"    Epoch=ms\\n\")\n",
    "    response = SESSION.get(url, params=query)\n",
    "\n",
    "    print(response.status_code)\n",
    "    try:\n",
    "        print(json.dumps(response.json(), indent=4, sort_keys=True))\n",
    "    except ValueError:\n",
    "        print(response.text)\n",
    "\n",
    "    if response.status_code == requests.codes['ok']:       \n",
    "        if response.json()['results'][0]['series']:\n",
    "            return response.json()['results'][0]['series']\n",
    "        else:\n",
    "            print(\"No data\")\n",
    "            return None\n",
    "    else:\n",
    "        print(\"InfluxDB query failed!\")\n",
    "        return None"
   ]
  },
  {
   "cell_type": "markdown",
   "metadata": {},
   "source": [
    "## User input"
   ]
  },
  {
   "cell_type": "code",
   "execution_count": null,
   "metadata": {},
   "outputs": [],
   "source": [
    "USERNAME = input(\"Enter WebAccess/DMP username:\")\n",
    "PASSWORD = input(\"Enter password:\")"
   ]
  },
  {
   "cell_type": "markdown",
   "metadata": {},
   "source": [
    "## Login to server"
   ]
  },
  {
   "cell_type": "code",
   "execution_count": null,
   "metadata": {},
   "outputs": [],
   "source": [
    "user_token = login(USERNAME, PASSWORD)\n",
    "SESSION.headers.update({'Authorization': f'Bearer {user_token}'})"
   ]
  },
  {
   "cell_type": "markdown",
   "metadata": {},
   "source": [
    "## Select a Company\n",
    "WebAccess/DMP utilises a separate InfluxDB database for every tenant, or \"company\"."
   ]
  },
  {
   "cell_type": "code",
   "execution_count": null,
   "metadata": {},
   "outputs": [],
   "source": [
    "companies = get_companies()"
   ]
  },
  {
   "cell_type": "code",
   "execution_count": null,
   "metadata": {},
   "outputs": [],
   "source": [
    "# A nested list comprehension creates a 2D array.\n",
    "data = [[\n",
    "    company['name'],\n",
    "    company['id'],\n",
    "    company['contact_name']\n",
    "    ] for company in companies]\n",
    "\n",
    "# Convert the 2D array into a Pandas dataframe, because it renders nicely\n",
    "company_table = pd.DataFrame(data, columns=[\"name\", \"id\", \"contact_name\"])\n",
    "company_table.style.hide_index()"
   ]
  },
  {
   "cell_type": "markdown",
   "metadata": {},
   "source": [
    "### Now, using the \"id\" column of this table ..."
   ]
  },
  {
   "cell_type": "code",
   "execution_count": null,
   "metadata": {},
   "outputs": [],
   "source": [
    "company_id = input(\"Enter the ID of the company whose database you want to use:\")\n",
    "\n",
    "company_name = company_table.query(f\"id=={company_id}\")['name'].values[0]\n",
    "print(f\"Confirming company name = {company_name}\")"
   ]
  },
  {
   "cell_type": "markdown",
   "metadata": {},
   "source": [
    "## Select a device from this company"
   ]
  },
  {
   "cell_type": "code",
   "execution_count": null,
   "metadata": {},
   "outputs": [],
   "source": [
    "devices = get_devices(100, [company_id])"
   ]
  },
  {
   "cell_type": "code",
   "execution_count": null,
   "metadata": {},
   "outputs": [],
   "source": [
    "# A nested list comprehension creates a 2D array.\n",
    "# We can't include \"Parent Name\" information yet, because a company may not have a parent\n",
    "data = [[\n",
    "    device['display_name'],\n",
    "    device['serial_number'],\n",
    "    device['mac_address'],\n",
    "    device['device_type']['name'],\n",
    "    device['is_online']\n",
    "    ] for device in devices]\n",
    "\n",
    "# Convert the 2D array into a Pandas dataframe, because it renders nicely\n",
    "device_table = pd.DataFrame(data, columns=[\"Name\", \"Serial Number\", \"MAC Address\", \"Type\", \"Online?\"])\n",
    "device_table.style.hide_index()"
   ]
  },
  {
   "cell_type": "markdown",
   "metadata": {},
   "source": [
    "### Now, using the \"MAC Address\" column of this table ..."
   ]
  },
  {
   "cell_type": "code",
   "execution_count": null,
   "metadata": {},
   "outputs": [],
   "source": [
    "device_mac = input(\"Enter the MAC Address of the device:\")"
   ]
  },
  {
   "cell_type": "markdown",
   "metadata": {},
   "source": [
    "## Select a field from the database for this device\n",
    "\n",
    "### Notes on creating an Influx query:\n",
    "* The company name must be included in the WHERE clause!\n",
    "(If you do not specify a company, the query will default to use the InfluxDB database for your primary company).\n",
    "\n",
    "* Because of the way Grafana [uses variables in queries](https://grafana.com/docs/grafana/latest/features/datasources/influxdb/#using-variables-in-queries), you have to wrap the company name as follows:\n",
    "`\"companyName\" =~ /^My Company Inc.$/`\n",
    "\n",
    "* In our InfluxDB schema, we have some keys that are used for both a field and a tag. \"macAddress\" is one of these, so when using it in a query, we should specify the type.\n",
    "\n",
    "* Following the Influx recommendations [here](https://docs.influxdata.com/influxdb/v1.7/troubleshooting/frequently-asked-questions/#when-should-i-single-quote-and-when-should-i-double-quote-in-queries), we single-quote string values and double-quote identifiers."
   ]
  },
  {
   "cell_type": "code",
   "execution_count": null,
   "metadata": {},
   "outputs": [],
   "source": [
    "influx_query = f'SELECT last(*) FROM \"SNMP\" WHERE (\"macAddress\"::tag = \\'{device_mac}\\' AND \"companyName\" =~ /^{company_name}$/)'\n",
    "dictionary = get_monitoring_data(influx_query)[0]"
   ]
  },
  {
   "cell_type": "markdown",
   "metadata": {},
   "source": [
    "Then we get the latest value and timestamp for each field ..."
   ]
  },
  {
   "cell_type": "code",
   "execution_count": null,
   "metadata": {},
   "outputs": [],
   "source": [
    "fields = [field.split('_', maxsplit=1)[1] for field in dictionary['columns'] if field != 'time']\n",
    "# Create a 2D array\n",
    "array = []\n",
    "for field in fields:\n",
    "    influx_query = f'SELECT last({field}), time FROM \"SNMP\" WHERE (\"macAddress\"::tag = \\'{device_mac}\\' AND \"companyName\" =~ /^{company_name}$/)'\n",
    "    results = get_monitoring_data(influx_query)\n",
    "    if results:  # may be null\n",
    "        values = results[0]['values'][0]\n",
    "        timestamp = values[0]/1000.0\n",
    "        value = values[1]\n",
    "        array.append([field, datetime.datetime.fromtimestamp(timestamp, datetime.timezone.utc).strftime('%Y-%m-%d %H:%M:%S'), value])"
   ]
  },
  {
   "cell_type": "code",
   "execution_count": null,
   "metadata": {},
   "outputs": [],
   "source": [
    "# Convert the 2D array into a Pandas dataframe, because it renders nicely\n",
    "field_table = pd.DataFrame(array, columns=[\"Field\", \"Timestamp\", \"Value\"])\n",
    "field_table.style.hide_index()"
   ]
  },
  {
   "cell_type": "markdown",
   "metadata": {},
   "source": [
    "### Now, using the \"Field\" column of this table ...\n",
    "Note that not all fields have numeric values. You can query *any* field, but if you want to plot it, it is best to select a numeric field."
   ]
  },
  {
   "cell_type": "code",
   "execution_count": null,
   "metadata": {},
   "outputs": [],
   "source": [
    "field_name = input(\"Enter the name of the field you want to plot:\")"
   ]
  },
  {
   "cell_type": "markdown",
   "metadata": {},
   "source": [
    "## Get the last 24 hours of data"
   ]
  },
  {
   "cell_type": "code",
   "execution_count": null,
   "metadata": {},
   "outputs": [],
   "source": [
    "influx_query = f'SELECT \"{field_name}\" FROM \"SNMP\" WHERE (\"macAddress\" = \\'{device_mac}\\' AND \"companyName\" =~ /^{company_name}$/ AND time >= now() - 1d )'\n",
    "# Convert to a numpy array, because that makes slicing easy\n",
    "array = np.array(get_monitoring_data(influx_query)[0]['values'])"
   ]
  },
  {
   "cell_type": "markdown",
   "metadata": {},
   "source": [
    "### Convert the numpy array to a Pandas Series object"
   ]
  },
  {
   "cell_type": "code",
   "execution_count": null,
   "metadata": {},
   "outputs": [],
   "source": [
    "x = pd.to_datetime(array[:,0], unit='ms')\n",
    "y = array[:,1]\n",
    "series = pd.Series(data=y, index=x)\n",
    "series"
   ]
  },
  {
   "cell_type": "markdown",
   "metadata": {},
   "source": [
    "### Plot"
   ]
  },
  {
   "cell_type": "code",
   "execution_count": null,
   "metadata": {},
   "outputs": [],
   "source": [
    "# bqplot provides a high-level API called pyplot, which is intended to be similar to matplotlib.\n",
    "# We use the lower-level \"object API\", as it provides more flexibility. It is based on the \"Grammar of Graphics\".\n",
    "\n",
    "x_sc = bqplot.DateScale()\n",
    "y_sc = bqplot.LinearScale()\n",
    "\n",
    "ax_x = bqplot.Axis(label='Time', scale=x_sc, grid_lines='solid')\n",
    "ax_y = bqplot.Axis(label=field_name, scale=y_sc, orientation='vertical', grid_lines='solid')\n",
    "\n",
    "line = bqplot.Lines(x=x, y=y, scales={'x': x_sc, 'y': y_sc}, marker='circle')\n",
    "\n",
    "fig = bqplot.Figure(axes=[ax_x, ax_y], marks=[line], title=device_mac)\n",
    "fig"
   ]
  },
  {
   "cell_type": "markdown",
   "metadata": {},
   "source": [
    "Note that the X-axis automatically uses the browser's local timezone.\n",
    "All monitoring data in WebAccess/DMP is stored in UTC, so if your local time is NOT UTC you will notice an offset.\n",
    "\n",
    "## Go back to the \"Select a field for plotting\" cell and plot another field ..."
   ]
  }
 ],
 "metadata": {
  "kernelspec": {
   "display_name": "Python 3",
   "language": "python",
   "name": "python3"
  },
  "language_info": {
   "codemirror_mode": {
    "name": "ipython",
    "version": 3
   },
   "file_extension": ".py",
   "mimetype": "text/x-python",
   "name": "python",
   "nbconvert_exporter": "python",
   "pygments_lexer": "ipython3",
   "version": "3.7.0"
  }
 },
 "nbformat": 4,
 "nbformat_minor": 4
}
