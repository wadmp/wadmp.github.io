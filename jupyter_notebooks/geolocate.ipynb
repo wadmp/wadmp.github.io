{
 "cells": [
  {
   "cell_type": "markdown",
   "metadata": {},
   "source": [
    "[View source on GitHub]: https://github.com/wadmp/wadmp.github.io/blob/master/jupyter_notebooks/geolocate.ipynb\n",
    "[Notebook Viewer]: https://nbviewer.jupyter.org/github/wadmp/wadmp.github.io/blob/master/jupyter_notebooks/geolocate.ipynb\n",
    "[Run in binder]: https://mybinder.org/v2/gh/wadmp/wadmp.github.io/master?filepath=jupyter_notebooks%2Fgeolocate.ipynb\n",
    "[Run in Google Colab]: https://colab.research.google.com/github/wadmp/wadmp.github.io/blob/master/jupyter_notebooks/geolocate.ipynb\n",
    "\n",
    "| [![GitHub logo](https://raw.githubusercontent.com/wadmp/wadmp.github.io/master/images/github_logo.png)][View source on GitHub] | [![Jupyter logo](https://raw.githubusercontent.com/wadmp/wadmp.github.io/master/images/jupyter_logo.png)][Notebook Viewer] | [![binder logo](https://raw.githubusercontent.com/wadmp/wadmp.github.io/master/images/binder_logo.png)][Run in binder] | [![Colab logo](https://raw.githubusercontent.com/wadmp/wadmp.github.io/master/images/colab_logo.png)][Run in Google Colab] |\n",
    "|:---------------------:|:---------------:|:-------------:|:-------------------:|\n",
    "| [View source on GitHub] | [Notebook Viewer] | [Run in binder] | [Run in Google Colab] |"
   ]
  },
  {
   "cell_type": "markdown",
   "metadata": {},
   "source": [
    "## Introduction\n",
    "This notebook provides an example of using the public REST API of WebAccess/DMP.\n",
    "\n",
    "It plots the last-known location of one device, using cell tower information.\n",
    "\n",
    "It uses [ipyleaflet](https://github.com/jupyter-widgets/ipyleaflet) to display the interactive map.\n",
    "\n",
    "It uses Google's [Geolocation API](https://developers.google.com/maps/documentation/geolocation/intro) to determine location from cell tower information.\n",
    "\n",
    "### Requirements\n",
    "* If you are running in Jupyter Notebook (>= version 5.3) you don't need to change any code.\n",
    "* If you are running in Jupyter Lab, you will also need to install these JupyterLab extensions:\n",
    "  * @jupyter-widgets/jupyterlab-manager\n",
    "  * jupyter-leaflet\n",
    "* You need to have an existing user account on the WA/DMP instance.\n",
    "* In order to see something on the map, you need a device with a cellular connection.\n",
    "* In order to plot location based on cell tower information, you must have an API key for Google's Geolocation API. (The Geolocation API is free if you make less than 40,000 calls per month).\n",
    "\n",
    "### Usage\n",
    "In the \"Global Variables\" cell below, change BASE_URL to match the particular WA/DMP instance that you are using.\n",
    "\n",
    "Then run the cells, either one at a time, or all at once.\n",
    "\n",
    "When prompted, enter the required User Input (USERNAME, PASSWORD, device_name, GOOGLE_KEY).\n",
    "\n",
    "Cell tower location is also marked with a bounding circle. i.e. The device could be anywhere inside this circle."
   ]
  },
  {
   "cell_type": "markdown",
   "metadata": {},
   "source": [
    "## Setup\n",
    "This may take a minute ..."
   ]
  },
  {
   "cell_type": "code",
   "execution_count": null,
   "metadata": {},
   "outputs": [],
   "source": [
    "%%capture\n",
    "\n",
    "# Install packages in the current Jupyter kernel\n",
    "import sys\n",
    "!{sys.executable} -m pip install requests\n",
    "!{sys.executable} -m pip install ipyleaflet\n",
    "\n",
    "import requests\n",
    "import json\n",
    "from ipyleaflet import Map, Marker, Circle"
   ]
  },
  {
   "cell_type": "markdown",
   "metadata": {},
   "source": [
    "## Global variables"
   ]
  },
  {
   "cell_type": "code",
   "execution_count": null,
   "metadata": {},
   "outputs": [],
   "source": [
    "BASE_URL = 'https://gateway.staging.wadmp.com'\n",
    "BASE_PATH = 'api'\n",
    "SESSION = requests.Session()  # Use one HTTPS session for all API calls"
   ]
  },
  {
   "cell_type": "markdown",
   "metadata": {},
   "source": [
    "## User input"
   ]
  },
  {
   "cell_type": "code",
   "execution_count": null,
   "metadata": {},
   "outputs": [],
   "source": [
    "USERNAME = input(\"Enter username:\")\n",
    "PASSWORD = input(\"Enter password:\")\n",
    "device_name = input(\"Enter device alias or MAC address:\")"
   ]
  },
  {
   "cell_type": "markdown",
   "metadata": {},
   "source": [
    "## Login"
   ]
  },
  {
   "cell_type": "code",
   "execution_count": null,
   "metadata": {},
   "outputs": [],
   "source": [
    "url = f\"{BASE_URL}/public/auth/connect/token\"\n",
    "credentials = {'username': USERNAME, 'password': PASSWORD, 'client_id': 'python', 'grant_type': 'password'}\n",
    "print(f\"\\nSending POST request to {url} with:\\n\"\n",
    "        f\"    credentials={credentials}\")\n",
    "response = SESSION.post(url, data=credentials)\n",
    "\n",
    "print(response.status_code)\n",
    "try:\n",
    "    print(json.dumps(response.json(), indent=4, sort_keys=True))\n",
    "except ValueError:\n",
    "    print(response.text)\n",
    "\n",
    "if response.status_code == requests.codes['ok']:\n",
    "    user_token = response.json()[\"access_token\"]\n",
    "else:\n",
    "    print(\"Failed to login!\")\n",
    "    sys.exit(1)"
   ]
  },
  {
   "cell_type": "markdown",
   "metadata": {},
   "source": [
    "## Use the token in all subsequent API calls"
   ]
  },
  {
   "cell_type": "code",
   "execution_count": null,
   "metadata": {},
   "outputs": [],
   "source": [
    "SESSION.headers.update({'Authorization': f'Bearer {user_token}'})"
   ]
  },
  {
   "cell_type": "markdown",
   "metadata": {},
   "source": [
    "## Get the device details"
   ]
  },
  {
   "cell_type": "code",
   "execution_count": null,
   "metadata": {},
   "outputs": [],
   "source": [
    "url = f\"{BASE_URL}/{BASE_PATH}/management/devices\"\n",
    "query = {'page': 1, 'pageSize': '10', 'name': device_name}\n",
    "print(f\"\\nSending GET request to {url} with:\\n\"\n",
    "        f\"    page=1\\n\"\n",
    "        f\"    pageSize=10\\n\"\n",
    "        f\"    name={device_name}\\n\")\n",
    "response = SESSION.get(url, params=query)\n",
    "\n",
    "print(response.status_code)\n",
    "try:\n",
    "    print(json.dumps(response.json(), indent=4, sort_keys=True))\n",
    "except ValueError:\n",
    "    print(response.text)\n",
    "\n",
    "if response.status_code == requests.codes['ok']:\n",
    "    mac = response.json()['data'][0]['mac_address']\n",
    "    company = response.json()['data'][0]['company']['name']\n",
    "else:\n",
    "    print(\"GET devices query failed!\")\n",
    "    sys.exit(1)"
   ]
  },
  {
   "cell_type": "markdown",
   "metadata": {},
   "source": [
    "## Get the latest location data from InfluxDB\n",
    "Note that the company name must be included in the WHERE clause!\n",
    "(If you do not specify a company, the query will default to use the InfluxDB database for your primary company).\n",
    "\n",
    "And because of the way Grafana [uses variables in queries](https://grafana.com/docs/grafana/latest/features/datasources/influxdb/#using-variables-in-queries), you have to wrap the company name as follows:\n",
    "`\"companyName\" =~ /^My Company Inc.$/`\n",
    "\n",
    "Following the Influx recommendations [here](https://docs.influxdata.com/influxdb/v1.7/troubleshooting/frequently-asked-questions/#when-should-i-single-quote-and-when-should-i-double-quote-in-queries), we single-quote string values and double-quote identifiers."
   ]
  },
  {
   "cell_type": "code",
   "execution_count": null,
   "metadata": {},
   "outputs": [],
   "source": [
    "url = f\"{BASE_URL}/{BASE_PATH}/monitoring/devices/query\"\n",
    "influx_query = f'SELECT LAST(\"mobileTechnology\"), LAST(\"mobilePLMN\"), LAST(\"mobileLAC\"), LAST(\"mobileCell\") FROM \"SNMP\" WHERE (\"macAddress\" = \\'{mac}\\' AND \"companyName\" =~ /^{company}$/)'\n",
    "query = {'Q': influx_query, 'Epoch': 'ms'}\n",
    "print(f\"\\nSending GET request to {url} with:\\n\"\n",
    "        f\"    Q={influx_query}\\n\"\n",
    "        f\"    Epoch=ms\\n\")\n",
    "response = SESSION.get(url, params=query)\n",
    "\n",
    "print(response.status_code)\n",
    "try:\n",
    "    print(json.dumps(response.json(), indent=4, sort_keys=True))\n",
    "except ValueError:\n",
    "    print(response.text)\n",
    "\n",
    "if response.status_code == requests.codes['ok']:\n",
    "    [timestamp, mobileTechnology, PLMN, locationAreaCode, cellId] = response.json()['results'][0]['series'][0]['values'][0]\n",
    "    mobileCountryCode = PLMN[:3]\n",
    "    mobileNetworkCode = PLMN[3:]\n",
    "    print(f\"mobileTechnology = {mobileTechnology}, \" \\\n",
    "          f\"mobileCountryCode = {mobileCountryCode}, \" \\\n",
    "          f\"mobileNetworkCode = {mobileNetworkCode}, \" \\\n",
    "          f\"locationAreaCode = {locationAreaCode}, \" \\\n",
    "          f\"cellId = {cellId}\")\n",
    "else:\n",
    "    print(\"InfluxDB query failed!\")\n",
    "    sys.exit(1)"
   ]
  },
  {
   "cell_type": "markdown",
   "metadata": {},
   "source": [
    "## Use Google's Geolocation API\n",
    "See https://developers.google.com/maps/documentation/geolocation/intro\n",
    "\n",
    "Note that when using `requests.post` with a `json` argument, the `Content-Type` header will be set to `application/json` automatically."
   ]
  },
  {
   "cell_type": "code",
   "execution_count": null,
   "metadata": {},
   "outputs": [],
   "source": [
    "GOOGLE_KEY = input(\"Enter your Google API key:\")\n",
    "\n",
    "url = \"https://www.googleapis.com/geolocation/v1/geolocate\"\n",
    "query = {'key': GOOGLE_KEY}\n",
    "body = {\n",
    "  \"cellTowers\": [\n",
    "    {\n",
    "        \"cellId\": int(cellId, 16),\n",
    "        \"locationAreaCode\": int(locationAreaCode, 16),\n",
    "        \"mobileCountryCode\": mobileCountryCode,\n",
    "        \"mobileNetworkCode\": mobileNetworkCode,\n",
    "    }\n",
    "  ]\n",
    "}\n",
    "\n",
    "print(f\"\\nSending POST request to {url} with:\\n\"\n",
    "        f\"    body={body}\")\n",
    "response = requests.post(url, params=query, json=body)\n",
    "\n",
    "print(response.status_code)\n",
    "try:\n",
    "    print(json.dumps(response.json(), indent=4, sort_keys=True))\n",
    "except ValueError:\n",
    "    print(response.text)\n",
    "\n",
    "if response.status_code == requests.codes['ok']:\n",
    "    lat = response.json()['location']['lat']\n",
    "    lng = response.json()['location']['lng']\n",
    "    accuracy = response.json()['accuracy']\n",
    "else:\n",
    "    print(\"Google API query failed!\")\n",
    "    sys.exit(1)"
   ]
  },
  {
   "cell_type": "markdown",
   "metadata": {},
   "source": [
    "The accuracy, in meters, represents the radius of a circle around the given location."
   ]
  },
  {
   "cell_type": "code",
   "execution_count": null,
   "metadata": {},
   "outputs": [],
   "source": [
    "centre = (lat, lng)\n",
    "\n",
    "m = Map(center=centre, zoom=10)\n",
    "\n",
    "circle = Circle()\n",
    "circle.location = (lat, lng)\n",
    "circle.radius = accuracy\n",
    "m.add_layer(circle)\n",
    "\n",
    "display(m)"
   ]
  },
  {
   "cell_type": "code",
   "execution_count": null,
   "metadata": {},
   "outputs": [],
   "source": []
  }
 ],
 "metadata": {
  "kernelspec": {
   "display_name": "Python 3",
   "language": "python",
   "name": "python3"
  },
  "language_info": {
   "codemirror_mode": {
    "name": "ipython",
    "version": 3
   },
   "file_extension": ".py",
   "mimetype": "text/x-python",
   "name": "python",
   "nbconvert_exporter": "python",
   "pygments_lexer": "ipython3",
   "version": "3.7.0"
  }
 },
 "nbformat": 4,
 "nbformat_minor": 4
}
