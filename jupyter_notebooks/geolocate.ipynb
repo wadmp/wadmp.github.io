{
 "cells": [
  {
   "cell_type": "markdown",
   "metadata": {},
   "source": [
    "## Setup"
   ]
  },
  {
   "cell_type": "code",
   "execution_count": null,
   "metadata": {},
   "outputs": [],
   "source": [
    "# Install packages in the current Jupyter kernel\n",
    "import sys\n",
    "!{sys.executable} -m pip install requests\n",
    "!{sys.executable} -m pip install ipyleaflet"
   ]
  },
  {
   "cell_type": "markdown",
   "metadata": {},
   "source": [
    "## Dependencies"
   ]
  },
  {
   "cell_type": "code",
   "execution_count": null,
   "metadata": {},
   "outputs": [],
   "source": [
    "import requests\n",
    "import json\n",
    "from ipyleaflet import Map, Marker, Circle"
   ]
  },
  {
   "cell_type": "markdown",
   "metadata": {},
   "source": [
    "## Global variables"
   ]
  },
  {
   "cell_type": "code",
   "execution_count": null,
   "metadata": {},
   "outputs": [],
   "source": [
    "BASE_URL = 'https://gateway.staging.wadmp.com'\n",
    "BASE_PATH = 'api'"
   ]
  },
  {
   "cell_type": "markdown",
   "metadata": {},
   "source": [
    "## User input"
   ]
  },
  {
   "cell_type": "code",
   "execution_count": null,
   "metadata": {},
   "outputs": [],
   "source": [
    "USERNAME = input(\"Enter username:\")\n",
    "PASSWORD = input(\"Enter password:\")"
   ]
  },
  {
   "cell_type": "markdown",
   "metadata": {},
   "source": [
    "## Login"
   ]
  },
  {
   "cell_type": "code",
   "execution_count": null,
   "metadata": {},
   "outputs": [],
   "source": [
    "url = f\"{BASE_URL}/public/auth/connect/token\"\n",
    "credentials = {'username': USERNAME, 'password': PASSWORD, 'client_id': 'python', 'grant_type': 'password'}\n",
    "print(f\"\\nSending POST request to {url} with:\\n\"\n",
    "        f\"    credentials={credentials}\")\n",
    "response = requests.post(url, data=credentials)\n",
    "\n",
    "print(response.status_code)\n",
    "try:\n",
    "    print(json.dumps(response.json(), indent=4, sort_keys=True))\n",
    "except ValueError:\n",
    "    print(response.text)\n",
    "\n",
    "if response.status_code == requests.codes['ok']:\n",
    "    USER_TOKEN = response.json()[\"access_token\"]\n",
    "else:\n",
    "    print(\"Failed to login!\")\n",
    "    sys.exit(1)"
   ]
  },
  {
   "cell_type": "markdown",
   "metadata": {},
   "source": [
    "## Get the device details"
   ]
  },
  {
   "cell_type": "code",
   "execution_count": null,
   "metadata": {},
   "outputs": [],
   "source": [
    "url = f\"{BASE_URL}/{BASE_PATH}/management/devices\"\n",
    "header = {'Authorization': f'Bearer {USER_TOKEN}'}\n",
    "device_name = input(\"Enter device alias:\")\n",
    "query = {'page': 1, 'pageSize': '10', 'name': device_name}\n",
    "print(f\"\\nSending GET request to {url} with:\\n\"\n",
    "        f\"    header={header}\\n\"\n",
    "        f\"    page=1\\n\"\n",
    "        f\"    pageSize=10\\n\"\n",
    "        f\"    name={device_name}\\n\")\n",
    "response = requests.get(url, params=query, headers=header)\n",
    "\n",
    "print(response.status_code)\n",
    "try:\n",
    "    print(json.dumps(response.json(), indent=4, sort_keys=True))\n",
    "except ValueError:\n",
    "    print(response.text)\n",
    "\n",
    "if response.status_code == requests.codes['ok']:\n",
    "    mac = response.json()['data'][0]['mac_address']\n",
    "    company = response.json()['data'][0]['company']['name']\n",
    "else:\n",
    "    print(\"GET devices query failed!\")\n",
    "    sys.exit(1)"
   ]
  },
  {
   "cell_type": "markdown",
   "metadata": {},
   "source": [
    "## Get the latest location data from InfluxDB\n",
    "Note that the company name must be included in the WHERE clause!\n",
    "(If you do not specify a company, the query will default to use the InfluxDB database for your primary company).\n",
    "\n",
    "And because of the way Grafana [uses variables in queries](https://grafana.com/docs/grafana/latest/features/datasources/influxdb/#using-variables-in-queries), you have to wrap the company name as follows:\n",
    "`\"companyName\" =~ /^My Company Inc.$/`\n",
    "\n",
    "Following the Influx recommendations [here](https://docs.influxdata.com/influxdb/v1.7/troubleshooting/frequently-asked-questions/#when-should-i-single-quote-and-when-should-i-double-quote-in-queries), we single-quote string values and double-quote identifiers."
   ]
  },
  {
   "cell_type": "code",
   "execution_count": null,
   "metadata": {},
   "outputs": [],
   "source": [
    "url = f\"{BASE_URL}/{BASE_PATH}/monitoring/devices/query\"\n",
    "header = {'Authorization': f'Bearer {USER_TOKEN}'}\n",
    "influx_query = f'SELECT LAST(\"mobileTechnology\"), LAST(\"mobilePLMN\"), LAST(\"mobileLAC\"), LAST(\"mobileCell\") FROM \"SNMP\" WHERE (\"macAddress\" = \\'{mac}\\' AND \"companyName\" =~ /^{company}$/)'\n",
    "query = {'Q': influx_query, 'Epoch': 'ms'}\n",
    "print(f\"\\nSending GET request to {url} with:\\n\"\n",
    "        f\"    header={header}\\n\"\n",
    "        f\"    Q={influx_query}\\n\"\n",
    "        f\"    Epoch=ms\\n\")\n",
    "response = requests.get(url, params=query, headers=header)\n",
    "\n",
    "print(response.status_code)\n",
    "try:\n",
    "    print(json.dumps(response.json(), indent=4, sort_keys=True))\n",
    "except ValueError:\n",
    "    print(response.text)\n",
    "\n",
    "if response.status_code == requests.codes['ok']:\n",
    "    [timestamp, mobileTechnology, PLMN, locationAreaCode, cellId] = response.json()['results'][0]['series'][0]['values'][0]\n",
    "    mobileCountryCode = PLMN[:3]\n",
    "    mobileNetworkCode = PLMN[3:]\n",
    "    print(f\"mobileTechnology = {mobileTechnology}, \" \\\n",
    "          f\"mobileCountryCode = {mobileCountryCode}, \" \\\n",
    "          f\"mobileNetworkCode = {mobileNetworkCode}, \" \\\n",
    "          f\"locationAreaCode = {locationAreaCode}, \" \\\n",
    "          f\"cellId = {cellId}\")\n",
    "else:\n",
    "    print(\"InfluxDB query failed!\")\n",
    "    sys.exit(1)"
   ]
  },
  {
   "cell_type": "markdown",
   "metadata": {},
   "source": [
    "## Use Google's Geolocation API\n",
    "See https://developers.google.com/maps/documentation/geolocation/intro\n",
    "\n",
    "Note that when using `requests.post` with a `json` argument, the `Content-Type` header will be set to `application/json` automatically."
   ]
  },
  {
   "cell_type": "code",
   "execution_count": null,
   "metadata": {},
   "outputs": [],
   "source": [
    "GOOGLE_KEY = input(\"Enter your Google API key:\")\n",
    "\n",
    "url = \"https://www.googleapis.com/geolocation/v1/geolocate\"\n",
    "query = {'key': GOOGLE_KEY}\n",
    "body = {\n",
    "  \"cellTowers\": [\n",
    "    {\n",
    "        \"cellId\": int(cellId, 16),\n",
    "        \"locationAreaCode\": int(locationAreaCode, 16),\n",
    "        \"mobileCountryCode\": mobileCountryCode,\n",
    "        \"mobileNetworkCode\": mobileNetworkCode,\n",
    "    }\n",
    "  ]\n",
    "}\n",
    "\n",
    "print(f\"\\nSending POST request to {url} with:\\n\"\n",
    "        f\"    body={body}\")\n",
    "response = requests.post(url, params=query, json=body)\n",
    "\n",
    "print(response.status_code)\n",
    "try:\n",
    "    print(json.dumps(response.json(), indent=4, sort_keys=True))\n",
    "except ValueError:\n",
    "    print(response.text)\n",
    "\n",
    "if response.status_code == requests.codes['ok']:\n",
    "    lat = response.json()['location']['lat']\n",
    "    lng = response.json()['location']['lng']\n",
    "    accuracy = response.json()['accuracy']\n",
    "else:\n",
    "    print(\"Google API query failed!\")\n",
    "    sys.exit(1)"
   ]
  },
  {
   "cell_type": "markdown",
   "metadata": {},
   "source": [
    "The accuracy, in meters, represents the radius of a circle around the given location."
   ]
  },
  {
   "cell_type": "code",
   "execution_count": null,
   "metadata": {},
   "outputs": [],
   "source": [
    "centre = (lat, lng)\n",
    "\n",
    "m = Map(center=centre, zoom=10)\n",
    "\n",
    "circle = Circle()\n",
    "circle.location = (lat, lng)\n",
    "circle.radius = accuracy\n",
    "m.add_layer(circle)\n",
    "\n",
    "display(m)"
   ]
  },
  {
   "cell_type": "code",
   "execution_count": null,
   "metadata": {},
   "outputs": [],
   "source": []
  }
 ],
 "metadata": {
  "kernelspec": {
   "display_name": "Python 3",
   "language": "python",
   "name": "python3"
  },
  "language_info": {
   "codemirror_mode": {
    "name": "ipython",
    "version": 3
   },
   "file_extension": ".py",
   "mimetype": "text/x-python",
   "name": "python",
   "nbconvert_exporter": "python",
   "pygments_lexer": "ipython3",
   "version": "3.7.0"
  }
 },
 "nbformat": 4,
 "nbformat_minor": 2
}
