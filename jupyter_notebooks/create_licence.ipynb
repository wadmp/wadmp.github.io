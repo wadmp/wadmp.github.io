{
 "cells": [
  {
   "cell_type": "markdown",
   "metadata": {},
   "source": [
    "[View source on GitHub]: https://github.com/wadmp/wadmp.github.io/blob/master/jupyter_notebooks/create_licence.ipynb\n",
    "[Notebook Viewer]: https://nbviewer.jupyter.org/github/wadmp/wadmp.github.io/blob/master/jupyter_notebooks/create_licence.ipynb\n",
    "[Run in binder]: https://mybinder.org/v2/gh/wadmp/wadmp.github.io/master?filepath=jupyter_notebooks%2Fcreate_licence.ipynb\n",
    "[Run in Google Colab]: https://colab.research.google.com/github/wadmp/wadmp.github.io/blob/master/jupyter_notebooks/create_licence.ipynb\n",
    "\n",
    "| [![GitHub logo](https://raw.githubusercontent.com/wadmp/wadmp.github.io/master/images/github_logo.png)][View source on GitHub] | [![Jupyter logo](https://raw.githubusercontent.com/wadmp/wadmp.github.io/master/images/jupyter_logo.png)][Notebook Viewer] | [![binder logo](https://raw.githubusercontent.com/wadmp/wadmp.github.io/master/images/binder_logo.png)][Run in binder] | [![Colab logo](https://raw.githubusercontent.com/wadmp/wadmp.github.io/master/images/colab_logo.png)][Run in Google Colab] |\n",
    "|:---------------------:|:---------------:|:-------------:|:-------------------:|\n",
    "| [View source on GitHub] | [Notebook Viewer] | [Run in binder] | [Run in Google Colab] |"
   ]
  },
  {
   "cell_type": "markdown",
   "metadata": {},
   "source": [
    "## Introduction\n",
    "This notebook provides an example of using the public REST API of WebAccess/DMP.\n",
    "\n",
    "It allows the user to create a new licence on the system by selecting from the list of available \"permissions\".\n",
    "\n",
    "### Requirements\n",
    "* If you are running in Jupyter Notebook, you MAY find that the \"SelectMultiple\" widget does not display correctly. If this happens, refresh the browser page after having run the Setup cell.\n",
    "* If you are running in Jupyter Lab, you will need to install this JupyterLab extension:\n",
    "  * @jupyter-widgets/jupyterlab-manager\n",
    "* You need to have an existing user account on the WA/DMP instance.\n",
    "\n",
    "### Usage\n",
    "In the \"Global Variables\" cell below, change BASE_URL to match the particular WA/DMP instance that you are using.\n",
    "\n",
    "Then run the cells *one at a time* (Shift-Enter).\n",
    "(For this particular notebook, you *can't* use the 'Run All' command!)\n",
    "\n",
    "Some cells prompt for user input.\n",
    "When the \"Select required permissions\" cell is run, you can select multiple permissions from the list by Ctrl-click'ing.\n"
   ]
  },
  {
   "cell_type": "markdown",
   "metadata": {},
   "source": [
    "## Setup\n",
    "This may take a minute ..."
   ]
  },
  {
   "cell_type": "code",
   "execution_count": null,
   "metadata": {},
   "outputs": [],
   "source": [
    "%%capture\n",
    "\n",
    "# Install packages in the current Jupyter kernel\n",
    "import sys\n",
    "!{sys.executable} -m pip install requests\n",
    "!{sys.executable} -m pip install ipywidgets\n",
    "!jupyter nbextension enable --py widgetsnbextension\n",
    "\n",
    "import requests\n",
    "import json\n",
    "import ipywidgets as widgets\n",
    "from datetime import datetime\n",
    "import sys"
   ]
  },
  {
   "cell_type": "markdown",
   "metadata": {},
   "source": [
    "## Global variables"
   ]
  },
  {
   "cell_type": "code",
   "execution_count": null,
   "metadata": {},
   "outputs": [],
   "source": [
    "BASE_URL = 'https://gateway.wadmp.com'\n",
    "BASE_PATH = 'api'\n",
    "SESSION = requests.Session()  # Use one HTTPS session for all API calls\n",
    "\n",
    "PERMISSION_NAMES = [\n",
    "    \"ViewUsers\",\n",
    "    \"CreateCompany\",\n",
    "    \"ManageRoles\",\n",
    "    \"DeleteUser\",\n",
    "    \"CreateUser\",\n",
    "    \"DeleteCompany\",\n",
    "    \"EditCompany\",\n",
    "    \"ViewCompany\",\n",
    "    \"EditUser\",\n",
    "    \"ViewDevice\",\n",
    "    \"CreateDevice\",\n",
    "    \"ClaimDevice\",\n",
    "    \"ViewDMServer\",\n",
    "    \"AdmDMServer\",\n",
    "    \"ChangeDeviceDMServer\",\n",
    "    \"EditDevice\",\n",
    "    \"ManageAppStore\",\n",
    "    \"ManageAPIClients\",\n",
    "    \"ManageSyncEngine\",\n",
    "    \"DeleteDevice\"\n",
    "]"
   ]
  },
  {
   "cell_type": "markdown",
   "metadata": {},
   "source": [
    "## Functions to be used later"
   ]
  },
  {
   "cell_type": "code",
   "execution_count": null,
   "metadata": {},
   "outputs": [],
   "source": [
    "def login(username, password):\n",
    "    \"\"\"Login to the system, and return a token\n",
    "    \"\"\"\n",
    "    url = f\"{BASE_URL}/public/auth/connect/token\"\n",
    "    credentials = {'username': username, 'password': password, 'client_id': 'python', 'grant_type': 'password'}\n",
    "    print(f\"Sending POST request to {url} with:\\n\"\n",
    "          f\"    credentials={credentials}\\n\")\n",
    "    response = SESSION.post(url, data=credentials)\n",
    "\n",
    "    print(response.status_code)\n",
    "    try:\n",
    "        print(json.dumps(response.json(), indent=4, sort_keys=True))\n",
    "    except ValueError:\n",
    "        print(response.text)\n",
    "\n",
    "    if response.status_code == requests.codes['ok']:\n",
    "        return response.json()[\"access_token\"]\n",
    "    else:\n",
    "        print(\"Failed to login!\")\n",
    "        sys.exit(1)\n",
    "\n",
    "\n",
    "def create_licence(permissions, devices=None, expiry=None):\n",
    "    \"\"\"Creates a new license key in the system.\n",
    "    \n",
    "       'permissions' is a decimal number rpresenting the sum of all individual permissions.\n",
    "       'devices' is the limit on the number of devices allowed.\n",
    "       'expiry' is a string representing the date-time on which the licence will expire.\n",
    "        Use ISO 8601 format and UTC timezone. e.g. \"2021-03-18T09:53:51Z\"\n",
    "    \"\"\"\n",
    "    url = f\"{BASE_URL}/{BASE_PATH}/licenses\"\n",
    "    model = {\n",
    "      \"expiration_date\": expiry,\n",
    "      \"devices_allowed\": devices,\n",
    "      \"default_user_permissions\": permissions\n",
    "    }\n",
    "    print(f\"\\nSending POST request to {url} with:\\n\"\n",
    "          f\"    model={model}\\n\")\n",
    "    response = SESSION.post(url, json=model)\n",
    "\n",
    "    print(response.status_code)\n",
    "    try:\n",
    "        print(json.dumps(response.json(), indent=4, sort_keys=True))\n",
    "    except ValueError:\n",
    "        print(response.text)\n",
    "\n",
    "    if response.status_code == requests.codes['ok']:\n",
    "        return response.json()['data']['id']\n",
    "    else:\n",
    "        print(\"Failed to create family!\")\n",
    "        return None\n",
    "\n",
    "\n",
    "def get_companies(name=None):\n",
    "    \"\"\"Gets the list of companies in the system.\n",
    "    \"\"\"\n",
    "    url = f\"{BASE_URL}/{BASE_PATH}/companies\"\n",
    "    query = {'name': name}\n",
    "    print(f\"Sending GET request to {url} with:\\n\"\n",
    "          f\"    name={name}\\n\")\n",
    "    response = SESSION.get(url, params=query)\n",
    "\n",
    "    print(response.status_code)\n",
    "    try:\n",
    "        print(json.dumps(response.json(), indent=4, sort_keys=True))\n",
    "    except ValueError:\n",
    "        print(response.text)\n",
    "\n",
    "    if response.status_code == requests.codes['ok']:\n",
    "        return response.json()['data']\n",
    "    else:\n",
    "        print(\"Failed to retrieve the list of companies!\")\n",
    "        return None\n",
    "\n",
    "\n",
    "def assign_licence(company_id, licence_id):\n",
    "    \"\"\"Sets a license key to a company.\n",
    "    \"\"\"\n",
    "    url = f\"{BASE_URL}/{BASE_PATH}/companies/{company_id}/license\"\n",
    "    query = {'key': licence_id}\n",
    "    print(f\"Sending PUT request to {url} with:\\n\"\n",
    "          f\"    key={licence_id}\\n\")\n",
    "    response = SESSION.put(url, params=query)\n",
    "\n",
    "    print(response.status_code)\n",
    "    try:\n",
    "        print(json.dumps(response.json(), indent=4, sort_keys=True))\n",
    "    except ValueError:\n",
    "        print(response.text)\n",
    "\n",
    "    if response.status_code == requests.codes['ok']:\n",
    "        return True\n",
    "    else:\n",
    "        print(\"Failed to assign the licence!\")\n",
    "        return False"
   ]
  },
  {
   "cell_type": "markdown",
   "metadata": {},
   "source": [
    "## User input"
   ]
  },
  {
   "cell_type": "code",
   "execution_count": null,
   "metadata": {},
   "outputs": [],
   "source": [
    "devices = input(\"Enter the number of devices allowed:\")\n",
    "\n",
    "print(f\"\\nCurrent time is {datetime.utcnow().isoformat()}Z\")\n",
    "\n",
    "expiry = input(\"Enter the expiry date:\")"
   ]
  },
  {
   "cell_type": "markdown",
   "metadata": {},
   "source": [
    "### Select required permissions"
   ]
  },
  {
   "cell_type": "code",
   "execution_count": null,
   "metadata": {},
   "outputs": [],
   "source": [
    "selected_permissions = widgets.SelectMultiple(\n",
    "    options=PERMISSION_NAMES,\n",
    "    rows=20,\n",
    "    disabled=False\n",
    ")\n",
    "display(selected_permissions)"
   ]
  },
  {
   "cell_type": "markdown",
   "metadata": {},
   "source": [
    "Ctrl-click to select from the list displayed, then run the next cell when you are ready ..."
   ]
  },
  {
   "cell_type": "code",
   "execution_count": null,
   "metadata": {},
   "outputs": [],
   "source": [
    "permissions = 0\n",
    "for selection in selected_permissions.value:\n",
    "    weight = 2**(PERMISSION_NAMES.index(selection))\n",
    "    print(f\"- {selection} has weight {weight}\")\n",
    "    permissions += weight\n",
    "\n",
    "binary_string = format(int(permissions), '020b')\n",
    "print(f\"Total = {permissions} decimal (= {binary_string} binary)\")"
   ]
  },
  {
   "cell_type": "markdown",
   "metadata": {},
   "source": [
    "## Login to server"
   ]
  },
  {
   "cell_type": "code",
   "execution_count": null,
   "metadata": {},
   "outputs": [],
   "source": [
    "USERNAME = input(\"Enter WebAccess/DMP username:\")\n",
    "PASSWORD = input(\"Enter password:\")\n",
    "user_token = login(USERNAME, PASSWORD)\n",
    "SESSION.headers.update({'Authorization': f'Bearer {user_token}'})"
   ]
  },
  {
   "cell_type": "markdown",
   "metadata": {},
   "source": [
    "## Create new licence"
   ]
  },
  {
   "cell_type": "code",
   "execution_count": null,
   "metadata": {},
   "outputs": [],
   "source": [
    "licence_id = create_licence(permissions, devices, expiry)"
   ]
  },
  {
   "cell_type": "markdown",
   "metadata": {},
   "source": [
    "## Get Company ID"
   ]
  },
  {
   "cell_type": "code",
   "execution_count": null,
   "metadata": {},
   "outputs": [],
   "source": [
    "COMPANY = input(\"Enter name of company to which you want to assign the licence:\")\n",
    "matching_companies = get_companies(COMPANY)\n",
    "if len(matching_companies) == 0:\n",
    "    print(\"Company name not found!\")\n",
    "    sys.exit(1)\n",
    "elif len(matching_companies) == 1:\n",
    "    company_id = matching_companies[0]['id']\n",
    "    print(f\"{COMPANY} has company ID {company_id}\")\n",
    "else:\n",
    "    print(\"More than one company matches that name! Just in case, we'll stop here.\")\n",
    "    sys.exit(1)"
   ]
  },
  {
   "cell_type": "markdown",
   "metadata": {},
   "source": [
    "## Assign licence to company"
   ]
  },
  {
   "cell_type": "code",
   "execution_count": null,
   "metadata": {},
   "outputs": [],
   "source": [
    "assign_licence(company_id, licence_id)"
   ]
  }
 ],
 "metadata": {
  "kernelspec": {
   "display_name": "Python 3",
   "language": "python",
   "name": "python3"
  },
  "language_info": {
   "codemirror_mode": {
    "name": "ipython",
    "version": 3
   },
   "file_extension": ".py",
   "mimetype": "text/x-python",
   "name": "python",
   "nbconvert_exporter": "python",
   "pygments_lexer": "ipython3",
   "version": "3.7.0"
  }
 },
 "nbformat": 4,
 "nbformat_minor": 4
}
